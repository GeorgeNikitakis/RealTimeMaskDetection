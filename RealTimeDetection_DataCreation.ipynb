{
  "cells": [
    {
      "cell_type": "markdown",
      "metadata": {
        "id": "Z8vhDnt5nT2u"
      },
      "source": [
        "# Import Dependencies"
      ]
    },
    {
      "cell_type": "code",
      "execution_count": 2,
      "metadata": {
        "id": "npREnlMYcUWh"
      },
      "outputs": [],
      "source": [
        "import cv2\n",
        "import uuid\n",
        "import os\n",
        "import time"
      ]
    },
    {
      "cell_type": "markdown",
      "metadata": {
        "id": "YvCve2H2nZur"
      },
      "source": [
        "# Define Image Class Names"
      ]
    },
    {
      "cell_type": "code",
      "execution_count": 14,
      "metadata": {
        "id": "0CZ3VIzscfAX"
      },
      "outputs": [],
      "source": [
        "# Creating img names and parameter\n",
        "labels = ['face_mask', 'no_mask']\n",
        "num_imgs = 20"
      ]
    },
    {
      "cell_type": "markdown",
      "metadata": {
        "id": "a437LCwAnhls"
      },
      "source": [
        "# Folder Setup"
      ]
    },
    {
      "cell_type": "code",
      "execution_count": 15,
      "metadata": {
        "id": "bLPqlZLJgn56"
      },
      "outputs": [],
      "source": [
        "# variable for image capture path\n",
        "imgs_path = os.path.join('Tensorflow', 'workspace', 'images', 'collectedimages')"
      ]
    },
    {
      "cell_type": "code",
      "execution_count": 16,
      "metadata": {
        "colab": {
          "base_uri": "https://localhost:8080/"
        },
        "id": "enj0CjykilZh",
        "outputId": "a4a683eb-265c-4a45-8ee6-d0620621b910"
      },
      "outputs": [
        {
          "name": "stdout",
          "output_type": "stream",
          "text": [
            "Tensorflow\\workspace\\images\\collectedimages\n"
          ]
        }
      ],
      "source": [
        "print(imgs_path)"
      ]
    },
    {
      "cell_type": "code",
      "execution_count": 17,
      "metadata": {
        "colab": {
          "base_uri": "https://localhost:8080/",
          "height": 35
        },
        "id": "MfHBdewnoXNJ",
        "outputId": "98817e54-1412-417b-8ad1-e256222c1bf2"
      },
      "outputs": [
        {
          "data": {
            "text/plain": [
              "'nt'"
            ]
          },
          "execution_count": 17,
          "metadata": {},
          "output_type": "execute_result"
        }
      ],
      "source": [
        "# Checking operating system\n",
        "os.name"
      ]
    },
    {
      "cell_type": "code",
      "execution_count": 19,
      "metadata": {
        "id": "Swnj0638iuX-"
      },
      "outputs": [],
      "source": [
        "# Making directory paths to save images in\n",
        "if not os.path.exists(imgs_path):\n",
        "  if os.name == 'posix':\n",
        "    !mkdir -p {imgs_path}\n",
        "  if os.name == 'nt':\n",
        "    !mkdir {imgs_path}\n",
        "\n",
        "for label in labels:\n",
        "  path = os.path.join(imgs_path, label)\n",
        "  if not os.path.exists(path):\n",
        "    !mkdir {path}"
      ]
    },
    {
      "cell_type": "markdown",
      "metadata": {
        "id": "nX9j8b6OnHnK"
      },
      "source": [
        "# Capture Images"
      ]
    },
    {
      "cell_type": "code",
      "execution_count": 17,
      "metadata": {
        "colab": {
          "base_uri": "https://localhost:8080/",
          "height": 269
        },
        "id": "dXsvNLuZkSd3",
        "outputId": "316d8118-c5f8-492e-8616-4f6195132737"
      },
      "outputs": [
        {
          "name": "stdout",
          "output_type": "stream",
          "text": [
            "Collecting images for face_mask\n",
            "Collecting image 0\n",
            "Collecting image 1\n",
            "Collecting image 2\n",
            "Collecting image 3\n",
            "Collecting image 4\n",
            "Collecting image 5\n",
            "Collecting image 6\n",
            "Collecting image 7\n",
            "Collecting image 8\n",
            "Collecting image 9\n",
            "Collecting image 10\n",
            "Collecting image 11\n",
            "Collecting image 12\n",
            "Collecting image 13\n",
            "Collecting image 14\n",
            "Collecting image 15\n",
            "Collecting image 16\n",
            "Collecting image 17\n",
            "Collecting image 18\n",
            "Collecting image 19\n",
            "Collecting images for no_mask\n",
            "Collecting image 0\n",
            "Collecting image 1\n",
            "Collecting image 2\n",
            "Collecting image 3\n",
            "Collecting image 4\n",
            "Collecting image 5\n",
            "Collecting image 6\n",
            "Collecting image 7\n",
            "Collecting image 8\n",
            "Collecting image 9\n",
            "Collecting image 10\n",
            "Collecting image 11\n",
            "Collecting image 12\n",
            "Collecting image 13\n",
            "Collecting image 14\n",
            "Collecting image 15\n",
            "Collecting image 16\n",
            "Collecting image 17\n",
            "Collecting image 18\n",
            "Collecting image 19\n"
          ]
        }
      ],
      "source": [
        "# Run Webcam to take pictures and save them\n",
        "for label in labels:\n",
        "  cap = cv2.VideoCapture(0)\n",
        "  print(f'Collecting images for {label}')\n",
        "  time.sleep(10)\n",
        "  for imgnum in range(num_imgs):\n",
        "    print(f'Collecting image {imgnum}')\n",
        "    ret, frame = cap.read()\n",
        "    imgname = os.path.join(imgs_path, label, label+'_'+f'{str(uuid.uuid1())}.jpg')\n",
        "    cv2.imwrite(imgname, frame)\n",
        "    cv2.imshow('frame', frame)\n",
        "    time.sleep(10)\n",
        "\n",
        "    if cv2.waitKey(1) & 0xFF == ord('q'):\n",
        "      break\n",
        "cap.release()\n",
        "cv2.destroyAllWindows()\n"
      ]
    },
    {
      "cell_type": "markdown",
      "metadata": {},
      "source": [
        "# Compress for Colab Training"
      ]
    },
    {
      "cell_type": "code",
      "execution_count": 18,
      "metadata": {},
      "outputs": [
        {
          "name": "stdout",
          "output_type": "stream",
          "text": [
            "d:\\AIDI\\AIDI2000\\Final\\object_detection\n"
          ]
        }
      ],
      "source": [
        "print(os.getcwd())"
      ]
    },
    {
      "cell_type": "code",
      "execution_count": 19,
      "metadata": {},
      "outputs": [],
      "source": [
        "# Path variables for compressing\n",
        "TRAIN_PATH = os.path.join('object_detection', 'workspace', 'images', 'train')\n",
        "TEST_PATH = os.path.join('object_detection', 'workspace', 'images', 'test')\n",
        "ARCHIVE_PATH = os.path.join('object_detection', 'workspace', 'images', 'archive.tar.gz')"
      ]
    },
    {
      "cell_type": "code",
      "execution_count": 20,
      "metadata": {},
      "outputs": [],
      "source": [
        "# zipping the desired files\n",
        "!tar -czf {ARCHIVE_PATH} {TRAIN_PATH} {TEST_PATH}"
      ]
    }
  ],
  "metadata": {
    "colab": {
      "name": "AIDI2000_Final.ipynb",
      "provenance": []
    },
    "kernelspec": {
      "display_name": "Python 3",
      "name": "python3"
    },
    "language_info": {
      "codemirror_mode": {
        "name": "ipython",
        "version": 3
      },
      "file_extension": ".py",
      "mimetype": "text/x-python",
      "name": "python",
      "nbconvert_exporter": "python",
      "pygments_lexer": "ipython3",
      "version": "3.9.4"
    }
  },
  "nbformat": 4,
  "nbformat_minor": 0
}
