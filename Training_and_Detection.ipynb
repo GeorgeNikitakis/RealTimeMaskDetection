{
  "nbformat": 4,
  "nbformat_minor": 0,
  "metadata": {
    "colab": {
      "name": "Training and Detection.ipynb",
      "provenance": []
    },
    "kernelspec": {
      "name": "python3",
      "display_name": "Python 3"
    },
    "language_info": {
      "name": "python"
    },
    "accelerator": "GPU"
  },
  "cells": [
    {
      "cell_type": "markdown",
      "source": [
        "# Setup Paths"
      ],
      "metadata": {
        "id": "AAAG3BTpvZPG"
      }
    },
    {
      "cell_type": "code",
      "execution_count": null,
      "metadata": {
        "id": "EbWRvL2kvS4L"
      },
      "outputs": [],
      "source": [
        "import os"
      ]
    },
    {
      "cell_type": "code",
      "source": [
        "custom_model_name = 'my_ssd_mobnet'\n",
        "pretrained_model_name = 'ssd_mobilenet_v2_fpnlite_320x320_coco17_tpu-8'\n",
        "pretrained_model_url = 'http://download.tensorflow.org/models/object_detection/tf2/20200711/ssd_mobilenet_v2_fpnlite_320x320_coco17_tpu-8.tar.gz'\n",
        "tf_record_script_name = 'generate_tfrecord.py'\n",
        "label_map_name = 'label_map.pbtxt'"
      ],
      "metadata": {
        "id": "MVhd_vkDvdO8"
      },
      "execution_count": null,
      "outputs": []
    },
    {
      "cell_type": "code",
      "source": [
        "paths = {\n",
        "    'workspace_path': os.path.join('object_detection', 'workspace'),\n",
        "    'scripts_path': os.path.join('object_detection', 'scripts'),\n",
        "    'apimodel_path': os.path.join('object_detection', 'models'),\n",
        "    'annotation_path': os.path.join('object_detection', 'workspace', 'annotations'),\n",
        "    'image_path': os.path.join('object_detection', 'workspace', 'images'),\n",
        "    'model_path': os.path.join('object_detection', 'workspace', 'models'),\n",
        "    'pretrained_model_path': os.path.join('object_detection', 'workspace', 'pre-trained-models'),\n",
        "    'checkpoint_path': os.path.join('object_detection', 'workspace', 'models', custom_model_name),\n",
        "    'output_path': os.path.join('object_detection', 'workspace', 'models', custom_model_name, 'export'),\n",
        "    'tfjs_path': os.path.join('object_detection', 'workspace', 'models', custom_model_name, 'tfjsexport'),\n",
        "    'tflite_path': os.path.join('object_detection', 'workspace', 'models', custom_model_name, 'tfliteexport'),\n",
        "    'protoc_path': os.path.join('object_detection', 'protoc')\n",
        "}"
      ],
      "metadata": {
        "id": "UBvT96BEv5oW"
      },
      "execution_count": null,
      "outputs": []
    },
    {
      "cell_type": "code",
      "source": [
        "files = {\n",
        "    'pipeline_config': os.path.join('object_detection', 'workspace', 'models', custom_model_name, 'pipeline.config'),\n",
        "    'tf_record_script': os.path.join(paths['scripts_path'], tf_record_script_name),\n",
        "    'labelmap': os.path.join(paths['annotation_path'], label_map_name)\n",
        "}"
      ],
      "metadata": {
        "id": "b_WzJ94MwIH_"
      },
      "execution_count": null,
      "outputs": []
    },
    {
      "cell_type": "code",
      "source": [
        "for path in paths.values():\n",
        "    if not os.path.exists(path):\n",
        "        if os.name == 'posix':\n",
        "            !mkdir -p {path}\n",
        "        if os.name == 'nt':\n",
        "            !mkdir {path}"
      ],
      "metadata": {
        "id": "07xXR1XwwOY_"
      },
      "execution_count": null,
      "outputs": []
    },
    {
      "cell_type": "markdown",
      "source": [
        "# Download and Install TF Pretrained Models"
      ],
      "metadata": {
        "id": "DoaTIRtgw470"
      }
    },
    {
      "cell_type": "code",
      "source": [
        "if os.name == 'nt':\n",
        "    !pip install wget\n",
        "    import wget"
      ],
      "metadata": {
        "id": "6p70KLuNweGr"
      },
      "execution_count": null,
      "outputs": []
    },
    {
      "cell_type": "code",
      "source": [
        "if not os.path.exists(os.path.join(paths['apimodel_path'], 'research', 'object_detection')):\n",
        "    !git clone https://github.com/tensorflow/models {paths['apimodel_path']}"
      ],
      "metadata": {
        "colab": {
          "base_uri": "https://localhost:8080/"
        },
        "id": "dN52OuKQxMJN",
        "outputId": "74ee4f2c-4efa-4794-d45d-59f53083cfb1"
      },
      "execution_count": null,
      "outputs": [
        {
          "output_type": "stream",
          "name": "stdout",
          "text": [
            "Cloning into 'object_detection/models'...\n",
            "remote: Enumerating objects: 71920, done.\u001b[K\n",
            "remote: Total 71920 (delta 0), reused 0 (delta 0), pack-reused 71920\u001b[K\n",
            "Receiving objects: 100% (71920/71920), 578.92 MiB | 38.60 MiB/s, done.\n",
            "Resolving deltas: 100% (50879/50879), done.\n"
          ]
        }
      ]
    },
    {
      "cell_type": "code",
      "source": [
        "if os.name=='posix':  \n",
        "    !apt-get install protobuf-compiler\n",
        "    !cd object_detection/models/research && protoc object_detection/protos/*.proto --python_out=. && cp object_detection/packages/tf2/setup.py . && python -m pip install . \n",
        "    \n",
        "if os.name=='nt':\n",
        "    url=\"https://github.com/protocolbuffers/protobuf/releases/download/v3.15.6/protoc-3.15.6-win64.zip\"\n",
        "    wget.download(url)\n",
        "    !move protoc-3.15.6-win64.zip {paths['protoc_path']}\n",
        "    !cd {paths['protoc_path']} && tar -xf protoc-3.15.6-win64.zip\n",
        "    os.environ['PATH'] += os.pathsep + os.path.abspath(os.path.join(paths['protoc_path'], 'bin'))   \n",
        "    !cd object_detection/models/research && protoc object_detection/protos/*.proto --python_out=. && copy object_detection\\\\packages\\\\tf2\\\\setup.py setup.py && python setup.py build && python setup.py install\n",
        "    !cd object_detection/models/research/slim && pip install -e . "
      ],
      "metadata": {
        "colab": {
          "base_uri": "https://localhost:8080/"
        },
        "id": "H-3DnAAcxUnY",
        "outputId": "ddcd4287-c0c7-4a89-95d4-9041bb40a515"
      },
      "execution_count": null,
      "outputs": [
        {
          "output_type": "stream",
          "name": "stdout",
          "text": [
            "Reading package lists... Done\n",
            "Building dependency tree       \n",
            "Reading state information... Done\n",
            "protobuf-compiler is already the newest version (3.0.0-9.1ubuntu1).\n",
            "0 upgraded, 0 newly installed, 0 to remove and 39 not upgraded.\n",
            "Processing /content/object_detection/models/research\n",
            "\u001b[33m  DEPRECATION: A future pip version will change local packages to be built in-place without first copying to a temporary directory. We recommend you use --use-feature=in-tree-build to test your packages with this new behavior before it becomes the default.\n",
            "   pip 21.3 will remove support for this functionality. You can find discussion regarding this at https://github.com/pypa/pip/issues/7555.\u001b[0m\n",
            "Collecting avro-python3\n",
            "  Downloading avro-python3-1.10.2.tar.gz (38 kB)\n",
            "Collecting apache-beam\n",
            "  Downloading apache_beam-2.37.0-cp37-cp37m-manylinux2010_x86_64.whl (10.1 MB)\n",
            "\u001b[K     |████████████████████████████████| 10.1 MB 8.0 MB/s \n",
            "\u001b[?25hRequirement already satisfied: pillow in /usr/local/lib/python3.7/dist-packages (from object-detection==0.1) (7.1.2)\n",
            "Requirement already satisfied: lxml in /usr/local/lib/python3.7/dist-packages (from object-detection==0.1) (4.2.6)\n",
            "Requirement already satisfied: matplotlib in /usr/local/lib/python3.7/dist-packages (from object-detection==0.1) (3.2.2)\n",
            "Requirement already satisfied: Cython in /usr/local/lib/python3.7/dist-packages (from object-detection==0.1) (0.29.28)\n",
            "Requirement already satisfied: contextlib2 in /usr/local/lib/python3.7/dist-packages (from object-detection==0.1) (0.5.5)\n",
            "Collecting tf-slim\n",
            "  Downloading tf_slim-1.1.0-py2.py3-none-any.whl (352 kB)\n",
            "\u001b[K     |████████████████████████████████| 352 kB 69.8 MB/s \n",
            "\u001b[?25hRequirement already satisfied: six in /usr/local/lib/python3.7/dist-packages (from object-detection==0.1) (1.15.0)\n",
            "Requirement already satisfied: pycocotools in /usr/local/lib/python3.7/dist-packages (from object-detection==0.1) (2.0.4)\n",
            "Collecting lvis\n",
            "  Downloading lvis-0.5.3-py3-none-any.whl (14 kB)\n",
            "Requirement already satisfied: scipy in /usr/local/lib/python3.7/dist-packages (from object-detection==0.1) (1.4.1)\n",
            "Requirement already satisfied: pandas in /usr/local/lib/python3.7/dist-packages (from object-detection==0.1) (1.3.5)\n",
            "Collecting tf-models-official>=2.5.1\n",
            "  Downloading tf_models_official-2.8.0-py2.py3-none-any.whl (2.2 MB)\n",
            "\u001b[K     |████████████████████████████████| 2.2 MB 51.1 MB/s \n",
            "\u001b[?25hCollecting tensorflow_io\n",
            "  Downloading tensorflow_io-0.24.0-cp37-cp37m-manylinux_2_12_x86_64.manylinux2010_x86_64.whl (23.4 MB)\n",
            "\u001b[K     |████████████████████████████████| 23.4 MB 1.4 MB/s \n",
            "\u001b[?25hRequirement already satisfied: keras in /usr/local/lib/python3.7/dist-packages (from object-detection==0.1) (2.8.0)\n",
            "Collecting opencv-python-headless\n",
            "  Downloading opencv_python_headless-4.5.5.64-cp36-abi3-manylinux_2_17_x86_64.manylinux2014_x86_64.whl (47.8 MB)\n",
            "\u001b[K     |████████████████████████████████| 47.8 MB 49 kB/s \n",
            "\u001b[?25hRequirement already satisfied: google-api-python-client>=1.6.7 in /usr/local/lib/python3.7/dist-packages (from tf-models-official>=2.5.1->object-detection==0.1) (1.12.11)\n",
            "Requirement already satisfied: psutil>=5.4.3 in /usr/local/lib/python3.7/dist-packages (from tf-models-official>=2.5.1->object-detection==0.1) (5.4.8)\n",
            "Requirement already satisfied: kaggle>=1.3.9 in /usr/local/lib/python3.7/dist-packages (from tf-models-official>=2.5.1->object-detection==0.1) (1.5.12)\n",
            "Collecting sacrebleu\n",
            "  Downloading sacrebleu-2.0.0-py3-none-any.whl (90 kB)\n",
            "\u001b[K     |████████████████████████████████| 90 kB 12.4 MB/s \n",
            "\u001b[?25hRequirement already satisfied: tensorflow-datasets in /usr/local/lib/python3.7/dist-packages (from tf-models-official>=2.5.1->object-detection==0.1) (4.0.1)\n",
            "Requirement already satisfied: gin-config in /usr/local/lib/python3.7/dist-packages (from tf-models-official>=2.5.1->object-detection==0.1) (0.5.0)\n",
            "Requirement already satisfied: numpy>=1.15.4 in /usr/local/lib/python3.7/dist-packages (from tf-models-official>=2.5.1->object-detection==0.1) (1.21.5)\n",
            "Collecting sentencepiece\n",
            "  Downloading sentencepiece-0.1.96-cp37-cp37m-manylinux_2_17_x86_64.manylinux2014_x86_64.whl (1.2 MB)\n",
            "\u001b[K     |████████████████████████████████| 1.2 MB 58.3 MB/s \n",
            "\u001b[?25hRequirement already satisfied: oauth2client in /usr/local/lib/python3.7/dist-packages (from tf-models-official>=2.5.1->object-detection==0.1) (4.1.3)\n",
            "Collecting seqeval\n",
            "  Downloading seqeval-1.2.2.tar.gz (43 kB)\n",
            "\u001b[K     |████████████████████████████████| 43 kB 2.5 MB/s \n",
            "\u001b[?25hCollecting tensorflow-text~=2.8.0\n",
            "  Downloading tensorflow_text-2.8.1-cp37-cp37m-manylinux_2_12_x86_64.manylinux2010_x86_64.whl (4.9 MB)\n",
            "\u001b[K     |████████████████████████████████| 4.9 MB 45.2 MB/s \n",
            "\u001b[?25hRequirement already satisfied: tensorflow~=2.8.0 in /usr/local/lib/python3.7/dist-packages (from tf-models-official>=2.5.1->object-detection==0.1) (2.8.0)\n",
            "Collecting tensorflow-addons\n",
            "  Downloading tensorflow_addons-0.16.1-cp37-cp37m-manylinux_2_12_x86_64.manylinux2010_x86_64.whl (1.1 MB)\n",
            "\u001b[K     |████████████████████████████████| 1.1 MB 53.8 MB/s \n",
            "\u001b[?25hCollecting tensorflow-model-optimization>=0.4.1\n",
            "  Downloading tensorflow_model_optimization-0.7.2-py2.py3-none-any.whl (237 kB)\n",
            "\u001b[K     |████████████████████████████████| 237 kB 78.3 MB/s \n",
            "\u001b[?25hRequirement already satisfied: tensorflow-hub>=0.6.0 in /usr/local/lib/python3.7/dist-packages (from tf-models-official>=2.5.1->object-detection==0.1) (0.12.0)\n",
            "Collecting pyyaml<6.0,>=5.1\n",
            "  Downloading PyYAML-5.4.1-cp37-cp37m-manylinux1_x86_64.whl (636 kB)\n",
            "\u001b[K     |████████████████████████████████| 636 kB 60.1 MB/s \n",
            "\u001b[?25hCollecting py-cpuinfo>=3.3.0\n",
            "  Downloading py-cpuinfo-8.0.0.tar.gz (99 kB)\n",
            "\u001b[K     |████████████████████████████████| 99 kB 11.7 MB/s \n",
            "\u001b[?25hRequirement already satisfied: google-api-core<3dev,>=1.21.0 in /usr/local/lib/python3.7/dist-packages (from google-api-python-client>=1.6.7->tf-models-official>=2.5.1->object-detection==0.1) (1.31.5)\n",
            "Requirement already satisfied: google-auth<3dev,>=1.16.0 in /usr/local/lib/python3.7/dist-packages (from google-api-python-client>=1.6.7->tf-models-official>=2.5.1->object-detection==0.1) (1.35.0)\n",
            "Requirement already satisfied: httplib2<1dev,>=0.15.0 in /usr/local/lib/python3.7/dist-packages (from google-api-python-client>=1.6.7->tf-models-official>=2.5.1->object-detection==0.1) (0.17.4)\n",
            "Requirement already satisfied: uritemplate<4dev,>=3.0.0 in /usr/local/lib/python3.7/dist-packages (from google-api-python-client>=1.6.7->tf-models-official>=2.5.1->object-detection==0.1) (3.0.1)\n",
            "Requirement already satisfied: google-auth-httplib2>=0.0.3 in /usr/local/lib/python3.7/dist-packages (from google-api-python-client>=1.6.7->tf-models-official>=2.5.1->object-detection==0.1) (0.0.4)\n",
            "Requirement already satisfied: googleapis-common-protos<2.0dev,>=1.6.0 in /usr/local/lib/python3.7/dist-packages (from google-api-core<3dev,>=1.21.0->google-api-python-client>=1.6.7->tf-models-official>=2.5.1->object-detection==0.1) (1.56.0)\n",
            "Requirement already satisfied: pytz in /usr/local/lib/python3.7/dist-packages (from google-api-core<3dev,>=1.21.0->google-api-python-client>=1.6.7->tf-models-official>=2.5.1->object-detection==0.1) (2018.9)\n",
            "Requirement already satisfied: setuptools>=40.3.0 in /usr/local/lib/python3.7/dist-packages (from google-api-core<3dev,>=1.21.0->google-api-python-client>=1.6.7->tf-models-official>=2.5.1->object-detection==0.1) (57.4.0)\n",
            "Requirement already satisfied: requests<3.0.0dev,>=2.18.0 in /usr/local/lib/python3.7/dist-packages (from google-api-core<3dev,>=1.21.0->google-api-python-client>=1.6.7->tf-models-official>=2.5.1->object-detection==0.1) (2.23.0)\n",
            "Requirement already satisfied: packaging>=14.3 in /usr/local/lib/python3.7/dist-packages (from google-api-core<3dev,>=1.21.0->google-api-python-client>=1.6.7->tf-models-official>=2.5.1->object-detection==0.1) (21.3)\n",
            "Requirement already satisfied: protobuf>=3.12.0 in /usr/local/lib/python3.7/dist-packages (from google-api-core<3dev,>=1.21.0->google-api-python-client>=1.6.7->tf-models-official>=2.5.1->object-detection==0.1) (3.17.3)\n",
            "Requirement already satisfied: pyasn1-modules>=0.2.1 in /usr/local/lib/python3.7/dist-packages (from google-auth<3dev,>=1.16.0->google-api-python-client>=1.6.7->tf-models-official>=2.5.1->object-detection==0.1) (0.2.8)\n",
            "Requirement already satisfied: rsa<5,>=3.1.4 in /usr/local/lib/python3.7/dist-packages (from google-auth<3dev,>=1.16.0->google-api-python-client>=1.6.7->tf-models-official>=2.5.1->object-detection==0.1) (4.8)\n",
            "Requirement already satisfied: cachetools<5.0,>=2.0.0 in /usr/local/lib/python3.7/dist-packages (from google-auth<3dev,>=1.16.0->google-api-python-client>=1.6.7->tf-models-official>=2.5.1->object-detection==0.1) (4.2.4)\n",
            "Requirement already satisfied: urllib3 in /usr/local/lib/python3.7/dist-packages (from kaggle>=1.3.9->tf-models-official>=2.5.1->object-detection==0.1) (1.24.3)\n",
            "Requirement already satisfied: python-dateutil in /usr/local/lib/python3.7/dist-packages (from kaggle>=1.3.9->tf-models-official>=2.5.1->object-detection==0.1) (2.8.2)\n",
            "Requirement already satisfied: python-slugify in /usr/local/lib/python3.7/dist-packages (from kaggle>=1.3.9->tf-models-official>=2.5.1->object-detection==0.1) (6.1.1)\n",
            "Requirement already satisfied: certifi in /usr/local/lib/python3.7/dist-packages (from kaggle>=1.3.9->tf-models-official>=2.5.1->object-detection==0.1) (2021.10.8)\n",
            "Requirement already satisfied: tqdm in /usr/local/lib/python3.7/dist-packages (from kaggle>=1.3.9->tf-models-official>=2.5.1->object-detection==0.1) (4.64.0)\n",
            "Requirement already satisfied: pyparsing!=3.0.5,>=2.0.2 in /usr/local/lib/python3.7/dist-packages (from packaging>=14.3->google-api-core<3dev,>=1.21.0->google-api-python-client>=1.6.7->tf-models-official>=2.5.1->object-detection==0.1) (3.0.8)\n",
            "Requirement already satisfied: pyasn1<0.5.0,>=0.4.6 in /usr/local/lib/python3.7/dist-packages (from pyasn1-modules>=0.2.1->google-auth<3dev,>=1.16.0->google-api-python-client>=1.6.7->tf-models-official>=2.5.1->object-detection==0.1) (0.4.8)\n",
            "Requirement already satisfied: chardet<4,>=3.0.2 in /usr/local/lib/python3.7/dist-packages (from requests<3.0.0dev,>=2.18.0->google-api-core<3dev,>=1.21.0->google-api-python-client>=1.6.7->tf-models-official>=2.5.1->object-detection==0.1) (3.0.4)\n",
            "Requirement already satisfied: idna<3,>=2.5 in /usr/local/lib/python3.7/dist-packages (from requests<3.0.0dev,>=2.18.0->google-api-core<3dev,>=1.21.0->google-api-python-client>=1.6.7->tf-models-official>=2.5.1->object-detection==0.1) (2.10)\n",
            "Requirement already satisfied: tensorboard<2.9,>=2.8 in /usr/local/lib/python3.7/dist-packages (from tensorflow~=2.8.0->tf-models-official>=2.5.1->object-detection==0.1) (2.8.0)\n",
            "Requirement already satisfied: keras-preprocessing>=1.1.1 in /usr/local/lib/python3.7/dist-packages (from tensorflow~=2.8.0->tf-models-official>=2.5.1->object-detection==0.1) (1.1.2)\n",
            "Requirement already satisfied: termcolor>=1.1.0 in /usr/local/lib/python3.7/dist-packages (from tensorflow~=2.8.0->tf-models-official>=2.5.1->object-detection==0.1) (1.1.0)\n",
            "Requirement already satisfied: grpcio<2.0,>=1.24.3 in /usr/local/lib/python3.7/dist-packages (from tensorflow~=2.8.0->tf-models-official>=2.5.1->object-detection==0.1) (1.44.0)\n",
            "Requirement already satisfied: wrapt>=1.11.0 in /usr/local/lib/python3.7/dist-packages (from tensorflow~=2.8.0->tf-models-official>=2.5.1->object-detection==0.1) (1.14.0)\n",
            "Requirement already satisfied: libclang>=9.0.1 in /usr/local/lib/python3.7/dist-packages (from tensorflow~=2.8.0->tf-models-official>=2.5.1->object-detection==0.1) (13.0.0)\n",
            "Requirement already satisfied: typing-extensions>=3.6.6 in /usr/local/lib/python3.7/dist-packages (from tensorflow~=2.8.0->tf-models-official>=2.5.1->object-detection==0.1) (4.1.1)\n",
            "Requirement already satisfied: tensorflow-io-gcs-filesystem>=0.23.1 in /usr/local/lib/python3.7/dist-packages (from tensorflow~=2.8.0->tf-models-official>=2.5.1->object-detection==0.1) (0.24.0)\n",
            "Collecting tf-estimator-nightly==2.8.0.dev2021122109\n",
            "  Downloading tf_estimator_nightly-2.8.0.dev2021122109-py2.py3-none-any.whl (462 kB)\n",
            "\u001b[K     |████████████████████████████████| 462 kB 69.4 MB/s \n",
            "\u001b[?25hRequirement already satisfied: gast>=0.2.1 in /usr/local/lib/python3.7/dist-packages (from tensorflow~=2.8.0->tf-models-official>=2.5.1->object-detection==0.1) (0.5.3)\n",
            "Requirement already satisfied: google-pasta>=0.1.1 in /usr/local/lib/python3.7/dist-packages (from tensorflow~=2.8.0->tf-models-official>=2.5.1->object-detection==0.1) (0.2.0)\n",
            "Requirement already satisfied: astunparse>=1.6.0 in /usr/local/lib/python3.7/dist-packages (from tensorflow~=2.8.0->tf-models-official>=2.5.1->object-detection==0.1) (1.6.3)\n",
            "Requirement already satisfied: absl-py>=0.4.0 in /usr/local/lib/python3.7/dist-packages (from tensorflow~=2.8.0->tf-models-official>=2.5.1->object-detection==0.1) (1.0.0)\n",
            "Requirement already satisfied: opt-einsum>=2.3.2 in /usr/local/lib/python3.7/dist-packages (from tensorflow~=2.8.0->tf-models-official>=2.5.1->object-detection==0.1) (3.3.0)\n",
            "Requirement already satisfied: h5py>=2.9.0 in /usr/local/lib/python3.7/dist-packages (from tensorflow~=2.8.0->tf-models-official>=2.5.1->object-detection==0.1) (3.1.0)\n",
            "Requirement already satisfied: flatbuffers>=1.12 in /usr/local/lib/python3.7/dist-packages (from tensorflow~=2.8.0->tf-models-official>=2.5.1->object-detection==0.1) (2.0)\n",
            "Requirement already satisfied: wheel<1.0,>=0.23.0 in /usr/local/lib/python3.7/dist-packages (from astunparse>=1.6.0->tensorflow~=2.8.0->tf-models-official>=2.5.1->object-detection==0.1) (0.37.1)\n",
            "Requirement already satisfied: cached-property in /usr/local/lib/python3.7/dist-packages (from h5py>=2.9.0->tensorflow~=2.8.0->tf-models-official>=2.5.1->object-detection==0.1) (1.5.2)\n",
            "Requirement already satisfied: werkzeug>=0.11.15 in /usr/local/lib/python3.7/dist-packages (from tensorboard<2.9,>=2.8->tensorflow~=2.8.0->tf-models-official>=2.5.1->object-detection==0.1) (1.0.1)\n",
            "Requirement already satisfied: google-auth-oauthlib<0.5,>=0.4.1 in /usr/local/lib/python3.7/dist-packages (from tensorboard<2.9,>=2.8->tensorflow~=2.8.0->tf-models-official>=2.5.1->object-detection==0.1) (0.4.6)\n",
            "Requirement already satisfied: markdown>=2.6.8 in /usr/local/lib/python3.7/dist-packages (from tensorboard<2.9,>=2.8->tensorflow~=2.8.0->tf-models-official>=2.5.1->object-detection==0.1) (3.3.6)\n",
            "Requirement already satisfied: tensorboard-data-server<0.7.0,>=0.6.0 in /usr/local/lib/python3.7/dist-packages (from tensorboard<2.9,>=2.8->tensorflow~=2.8.0->tf-models-official>=2.5.1->object-detection==0.1) (0.6.1)\n",
            "Requirement already satisfied: tensorboard-plugin-wit>=1.6.0 in /usr/local/lib/python3.7/dist-packages (from tensorboard<2.9,>=2.8->tensorflow~=2.8.0->tf-models-official>=2.5.1->object-detection==0.1) (1.8.1)\n",
            "Requirement already satisfied: requests-oauthlib>=0.7.0 in /usr/local/lib/python3.7/dist-packages (from google-auth-oauthlib<0.5,>=0.4.1->tensorboard<2.9,>=2.8->tensorflow~=2.8.0->tf-models-official>=2.5.1->object-detection==0.1) (1.3.1)\n",
            "Requirement already satisfied: importlib-metadata>=4.4 in /usr/local/lib/python3.7/dist-packages (from markdown>=2.6.8->tensorboard<2.9,>=2.8->tensorflow~=2.8.0->tf-models-official>=2.5.1->object-detection==0.1) (4.11.3)\n",
            "Requirement already satisfied: zipp>=0.5 in /usr/local/lib/python3.7/dist-packages (from importlib-metadata>=4.4->markdown>=2.6.8->tensorboard<2.9,>=2.8->tensorflow~=2.8.0->tf-models-official>=2.5.1->object-detection==0.1) (3.8.0)\n",
            "Requirement already satisfied: oauthlib>=3.0.0 in /usr/local/lib/python3.7/dist-packages (from requests-oauthlib>=0.7.0->google-auth-oauthlib<0.5,>=0.4.1->tensorboard<2.9,>=2.8->tensorflow~=2.8.0->tf-models-official>=2.5.1->object-detection==0.1) (3.2.0)\n",
            "Requirement already satisfied: dm-tree~=0.1.1 in /usr/local/lib/python3.7/dist-packages (from tensorflow-model-optimization>=0.4.1->tf-models-official>=2.5.1->object-detection==0.1) (0.1.7)\n",
            "Collecting dill<0.3.2,>=0.3.1.1\n",
            "  Downloading dill-0.3.1.1.tar.gz (151 kB)\n",
            "\u001b[K     |████████████████████████████████| 151 kB 73.1 MB/s \n",
            "\u001b[?25hRequirement already satisfied: pydot<2,>=1.2.0 in /usr/local/lib/python3.7/dist-packages (from apache-beam->object-detection==0.1) (1.3.0)\n",
            "Collecting proto-plus<2,>=1.7.1\n",
            "  Downloading proto_plus-1.20.3-py3-none-any.whl (46 kB)\n",
            "\u001b[K     |████████████████████████████████| 46 kB 4.5 MB/s \n",
            "\u001b[?25hCollecting orjson<4.0\n",
            "  Downloading orjson-3.6.8-cp37-cp37m-manylinux_2_24_x86_64.whl (253 kB)\n",
            "\u001b[K     |████████████████████████████████| 253 kB 75.3 MB/s \n",
            "\u001b[?25hCollecting hdfs<3.0.0,>=2.1.0\n",
            "  Downloading hdfs-2.7.0-py3-none-any.whl (34 kB)\n",
            "Collecting requests<3.0.0dev,>=2.18.0\n",
            "  Downloading requests-2.27.1-py2.py3-none-any.whl (63 kB)\n",
            "\u001b[K     |████████████████████████████████| 63 kB 2.1 MB/s \n",
            "\u001b[?25hRequirement already satisfied: crcmod<2.0,>=1.7 in /usr/local/lib/python3.7/dist-packages (from apache-beam->object-detection==0.1) (1.7)\n",
            "Collecting fastavro<2,>=0.23.6\n",
            "  Downloading fastavro-1.4.10-cp37-cp37m-manylinux_2_17_x86_64.manylinux2014_x86_64.whl (2.3 MB)\n",
            "\u001b[K     |████████████████████████████████| 2.3 MB 48.8 MB/s \n",
            "\u001b[?25hCollecting pymongo<4.0.0,>=3.8.0\n",
            "  Downloading pymongo-3.12.3-cp37-cp37m-manylinux_2_17_x86_64.manylinux2014_x86_64.whl (508 kB)\n",
            "\u001b[K     |████████████████████████████████| 508 kB 60.8 MB/s \n",
            "\u001b[?25hCollecting cloudpickle<3,>=2.0.0\n",
            "  Downloading cloudpickle-2.0.0-py3-none-any.whl (25 kB)\n",
            "Requirement already satisfied: pyarrow<7.0.0,>=0.15.1 in /usr/local/lib/python3.7/dist-packages (from apache-beam->object-detection==0.1) (6.0.1)\n",
            "Requirement already satisfied: docopt in /usr/local/lib/python3.7/dist-packages (from hdfs<3.0.0,>=2.1.0->apache-beam->object-detection==0.1) (0.6.2)\n",
            "Collecting protobuf>=3.12.0\n",
            "  Downloading protobuf-3.20.0-cp37-cp37m-manylinux_2_5_x86_64.manylinux1_x86_64.whl (1.0 MB)\n",
            "\u001b[K     |████████████████████████████████| 1.0 MB 53.3 MB/s \n",
            "\u001b[?25hRequirement already satisfied: charset-normalizer~=2.0.0 in /usr/local/lib/python3.7/dist-packages (from requests<3.0.0dev,>=2.18.0->google-api-core<3dev,>=1.21.0->google-api-python-client>=1.6.7->tf-models-official>=2.5.1->object-detection==0.1) (2.0.12)\n",
            "Requirement already satisfied: cycler>=0.10.0 in /usr/local/lib/python3.7/dist-packages (from lvis->object-detection==0.1) (0.11.0)\n",
            "Requirement already satisfied: kiwisolver>=1.1.0 in /usr/local/lib/python3.7/dist-packages (from lvis->object-detection==0.1) (1.4.2)\n",
            "Requirement already satisfied: opencv-python>=4.1.0.25 in /usr/local/lib/python3.7/dist-packages (from lvis->object-detection==0.1) (4.1.2.30)\n",
            "Requirement already satisfied: text-unidecode>=1.3 in /usr/local/lib/python3.7/dist-packages (from python-slugify->kaggle>=1.3.9->tf-models-official>=2.5.1->object-detection==0.1) (1.3)\n",
            "Collecting colorama\n",
            "  Downloading colorama-0.4.4-py2.py3-none-any.whl (16 kB)\n",
            "Requirement already satisfied: regex in /usr/local/lib/python3.7/dist-packages (from sacrebleu->tf-models-official>=2.5.1->object-detection==0.1) (2019.12.20)\n",
            "Collecting portalocker\n",
            "  Downloading portalocker-2.4.0-py2.py3-none-any.whl (16 kB)\n",
            "Requirement already satisfied: tabulate>=0.8.9 in /usr/local/lib/python3.7/dist-packages (from sacrebleu->tf-models-official>=2.5.1->object-detection==0.1) (0.8.9)\n",
            "Requirement already satisfied: scikit-learn>=0.21.3 in /usr/local/lib/python3.7/dist-packages (from seqeval->tf-models-official>=2.5.1->object-detection==0.1) (1.0.2)\n",
            "Requirement already satisfied: joblib>=0.11 in /usr/local/lib/python3.7/dist-packages (from scikit-learn>=0.21.3->seqeval->tf-models-official>=2.5.1->object-detection==0.1) (1.1.0)\n",
            "Requirement already satisfied: threadpoolctl>=2.0.0 in /usr/local/lib/python3.7/dist-packages (from scikit-learn>=0.21.3->seqeval->tf-models-official>=2.5.1->object-detection==0.1) (3.1.0)\n",
            "Requirement already satisfied: typeguard>=2.7 in /usr/local/lib/python3.7/dist-packages (from tensorflow-addons->tf-models-official>=2.5.1->object-detection==0.1) (2.7.1)\n",
            "Requirement already satisfied: future in /usr/local/lib/python3.7/dist-packages (from tensorflow-datasets->tf-models-official>=2.5.1->object-detection==0.1) (0.16.0)\n",
            "Requirement already satisfied: attrs>=18.1.0 in /usr/local/lib/python3.7/dist-packages (from tensorflow-datasets->tf-models-official>=2.5.1->object-detection==0.1) (21.4.0)\n",
            "Requirement already satisfied: promise in /usr/local/lib/python3.7/dist-packages (from tensorflow-datasets->tf-models-official>=2.5.1->object-detection==0.1) (2.3)\n",
            "Requirement already satisfied: tensorflow-metadata in /usr/local/lib/python3.7/dist-packages (from tensorflow-datasets->tf-models-official>=2.5.1->object-detection==0.1) (1.7.0)\n",
            "Requirement already satisfied: importlib-resources in /usr/local/lib/python3.7/dist-packages (from tensorflow-datasets->tf-models-official>=2.5.1->object-detection==0.1) (5.6.0)\n",
            "Building wheels for collected packages: object-detection, py-cpuinfo, dill, avro-python3, seqeval\n",
            "  Building wheel for object-detection (setup.py) ... \u001b[?25l\u001b[?25hdone\n",
            "  Created wheel for object-detection: filename=object_detection-0.1-py3-none-any.whl size=1690985 sha256=8f6c161303897887d847856414edbffef67554c872a65c653674d519cd9e1331\n",
            "  Stored in directory: /tmp/pip-ephem-wheel-cache-rmeexpne/wheels/e8/da/b4/58a76a037055c4b8a92ca1ee95167059f1e797c140129a3ae1\n",
            "  Building wheel for py-cpuinfo (setup.py) ... \u001b[?25l\u001b[?25hdone\n",
            "  Created wheel for py-cpuinfo: filename=py_cpuinfo-8.0.0-py3-none-any.whl size=22257 sha256=0aa4e569013ac0d85e5f406f38baf7aa6e6548373308944c88128727d163a448\n",
            "  Stored in directory: /root/.cache/pip/wheels/d2/f1/1f/041add21dc9c4220157f1bd2bd6afe1f1a49524c3396b94401\n",
            "  Building wheel for dill (setup.py) ... \u001b[?25l\u001b[?25hdone\n",
            "  Created wheel for dill: filename=dill-0.3.1.1-py3-none-any.whl size=78544 sha256=707668cccb3ca7837a3d11df2e79d81c58349a2cfff8560fb6b9e3e8ad9096e6\n",
            "  Stored in directory: /root/.cache/pip/wheels/a4/61/fd/c57e374e580aa78a45ed78d5859b3a44436af17e22ca53284f\n",
            "  Building wheel for avro-python3 (setup.py) ... \u001b[?25l\u001b[?25hdone\n",
            "  Created wheel for avro-python3: filename=avro_python3-1.10.2-py3-none-any.whl size=44010 sha256=ae5faee22c964bc675ec017e723825f322ccbccee751432a3b039f832983aba6\n",
            "  Stored in directory: /root/.cache/pip/wheels/d6/e5/b1/6b151d9b535ee50aaa6ab27d145a0104b6df02e5636f0376da\n",
            "  Building wheel for seqeval (setup.py) ... \u001b[?25l\u001b[?25hdone\n",
            "  Created wheel for seqeval: filename=seqeval-1.2.2-py3-none-any.whl size=16180 sha256=e40c2c0f6383842599a1ffe2636892b812d5f261b2da65a73d0845e8982db64e\n",
            "  Stored in directory: /root/.cache/pip/wheels/05/96/ee/7cac4e74f3b19e3158dce26a20a1c86b3533c43ec72a549fd7\n",
            "Successfully built object-detection py-cpuinfo dill avro-python3 seqeval\n",
            "Installing collected packages: requests, protobuf, tf-estimator-nightly, portalocker, dill, colorama, tf-slim, tensorflow-text, tensorflow-model-optimization, tensorflow-addons, seqeval, sentencepiece, sacrebleu, pyyaml, pymongo, py-cpuinfo, proto-plus, orjson, opencv-python-headless, hdfs, fastavro, cloudpickle, tf-models-official, tensorflow-io, lvis, avro-python3, apache-beam, object-detection\n",
            "  Attempting uninstall: requests\n",
            "    Found existing installation: requests 2.23.0\n",
            "    Uninstalling requests-2.23.0:\n",
            "      Successfully uninstalled requests-2.23.0\n",
            "  Attempting uninstall: protobuf\n",
            "    Found existing installation: protobuf 3.17.3\n",
            "    Uninstalling protobuf-3.17.3:\n",
            "      Successfully uninstalled protobuf-3.17.3\n",
            "  Attempting uninstall: dill\n",
            "    Found existing installation: dill 0.3.4\n",
            "    Uninstalling dill-0.3.4:\n",
            "      Successfully uninstalled dill-0.3.4\n",
            "  Attempting uninstall: pyyaml\n",
            "    Found existing installation: PyYAML 3.13\n",
            "    Uninstalling PyYAML-3.13:\n",
            "      Successfully uninstalled PyYAML-3.13\n",
            "  Attempting uninstall: pymongo\n",
            "    Found existing installation: pymongo 4.1.0\n",
            "    Uninstalling pymongo-4.1.0:\n",
            "      Successfully uninstalled pymongo-4.1.0\n",
            "  Attempting uninstall: cloudpickle\n",
            "    Found existing installation: cloudpickle 1.3.0\n",
            "    Uninstalling cloudpickle-1.3.0:\n",
            "      Successfully uninstalled cloudpickle-1.3.0\n",
            "\u001b[31mERROR: pip's dependency resolver does not currently take into account all the packages that are installed. This behaviour is the source of the following dependency conflicts.\n",
            "multiprocess 0.70.12.2 requires dill>=0.3.4, but you have dill 0.3.1.1 which is incompatible.\n",
            "gym 0.17.3 requires cloudpickle<1.7.0,>=1.2.0, but you have cloudpickle 2.0.0 which is incompatible.\n",
            "google-colab 1.0.0 requires requests~=2.23.0, but you have requests 2.27.1 which is incompatible.\n",
            "datascience 0.10.6 requires folium==0.2.1, but you have folium 0.8.3 which is incompatible.\u001b[0m\n",
            "Successfully installed apache-beam-2.37.0 avro-python3-1.10.2 cloudpickle-2.0.0 colorama-0.4.4 dill-0.3.1.1 fastavro-1.4.10 hdfs-2.7.0 lvis-0.5.3 object-detection-0.1 opencv-python-headless-4.5.5.64 orjson-3.6.8 portalocker-2.4.0 proto-plus-1.20.3 protobuf-3.20.0 py-cpuinfo-8.0.0 pymongo-3.12.3 pyyaml-5.4.1 requests-2.27.1 sacrebleu-2.0.0 sentencepiece-0.1.96 seqeval-1.2.2 tensorflow-addons-0.16.1 tensorflow-io-0.24.0 tensorflow-model-optimization-0.7.2 tensorflow-text-2.8.1 tf-estimator-nightly-2.8.0.dev2021122109 tf-models-official-2.8.0 tf-slim-1.1.0\n"
          ]
        }
      ]
    },
    {
      "cell_type": "code",
      "source": [
        "VERIFICATION_SCRIPT = os.path.join(paths['apimodel_path'], 'research', 'object_detection', 'builders', 'model_builder_tf2_test.py')\n",
        "# Verify Installation\n",
        "!python {VERIFICATION_SCRIPT}"
      ],
      "metadata": {
        "colab": {
          "base_uri": "https://localhost:8080/"
        },
        "id": "iCs6e8AoxwEB",
        "outputId": "8be44a9f-b72a-472e-8e4e-aa3f19268f1d"
      },
      "execution_count": null,
      "outputs": [
        {
          "output_type": "stream",
          "name": "stdout",
          "text": [
            "Running tests under Python 3.7.13: /usr/bin/python3\n",
            "[ RUN      ] ModelBuilderTF2Test.test_create_center_net_deepmac\n",
            "2022-04-17 01:10:22.038789: W tensorflow/core/common_runtime/gpu/gpu_bfc_allocator.cc:39] Overriding allow_growth setting because the TF_FORCE_GPU_ALLOW_GROWTH environment variable is set. Original config value was 0.\n",
            "W0417 01:10:22.281579 140329488418688 model_builder.py:1102] Building experimental DeepMAC meta-arch. Some features may be omitted.\n",
            "INFO:tensorflow:time(__main__.ModelBuilderTF2Test.test_create_center_net_deepmac): 2.9s\n",
            "I0417 01:10:22.643326 140329488418688 test_util.py:2374] time(__main__.ModelBuilderTF2Test.test_create_center_net_deepmac): 2.9s\n",
            "[       OK ] ModelBuilderTF2Test.test_create_center_net_deepmac\n",
            "[ RUN      ] ModelBuilderTF2Test.test_create_center_net_model0 (customize_head_params=True)\n",
            "INFO:tensorflow:time(__main__.ModelBuilderTF2Test.test_create_center_net_model0 (customize_head_params=True)): 0.49s\n",
            "I0417 01:10:23.133198 140329488418688 test_util.py:2374] time(__main__.ModelBuilderTF2Test.test_create_center_net_model0 (customize_head_params=True)): 0.49s\n",
            "[       OK ] ModelBuilderTF2Test.test_create_center_net_model0 (customize_head_params=True)\n",
            "[ RUN      ] ModelBuilderTF2Test.test_create_center_net_model1 (customize_head_params=False)\n",
            "INFO:tensorflow:time(__main__.ModelBuilderTF2Test.test_create_center_net_model1 (customize_head_params=False)): 0.25s\n",
            "I0417 01:10:23.381633 140329488418688 test_util.py:2374] time(__main__.ModelBuilderTF2Test.test_create_center_net_model1 (customize_head_params=False)): 0.25s\n",
            "[       OK ] ModelBuilderTF2Test.test_create_center_net_model1 (customize_head_params=False)\n",
            "[ RUN      ] ModelBuilderTF2Test.test_create_center_net_model_from_keypoints\n",
            "INFO:tensorflow:time(__main__.ModelBuilderTF2Test.test_create_center_net_model_from_keypoints): 0.23s\n",
            "I0417 01:10:23.612985 140329488418688 test_util.py:2374] time(__main__.ModelBuilderTF2Test.test_create_center_net_model_from_keypoints): 0.23s\n",
            "[       OK ] ModelBuilderTF2Test.test_create_center_net_model_from_keypoints\n",
            "[ RUN      ] ModelBuilderTF2Test.test_create_center_net_model_mobilenet\n",
            "INFO:tensorflow:time(__main__.ModelBuilderTF2Test.test_create_center_net_model_mobilenet): 1.87s\n",
            "I0417 01:10:25.484444 140329488418688 test_util.py:2374] time(__main__.ModelBuilderTF2Test.test_create_center_net_model_mobilenet): 1.87s\n",
            "[       OK ] ModelBuilderTF2Test.test_create_center_net_model_mobilenet\n",
            "[ RUN      ] ModelBuilderTF2Test.test_create_experimental_model\n",
            "INFO:tensorflow:time(__main__.ModelBuilderTF2Test.test_create_experimental_model): 0.0s\n",
            "I0417 01:10:25.485429 140329488418688 test_util.py:2374] time(__main__.ModelBuilderTF2Test.test_create_experimental_model): 0.0s\n",
            "[       OK ] ModelBuilderTF2Test.test_create_experimental_model\n",
            "[ RUN      ] ModelBuilderTF2Test.test_create_faster_rcnn_from_config_with_crop_feature0 (True)\n",
            "INFO:tensorflow:time(__main__.ModelBuilderTF2Test.test_create_faster_rcnn_from_config_with_crop_feature0 (True)): 0.02s\n",
            "I0417 01:10:25.507626 140329488418688 test_util.py:2374] time(__main__.ModelBuilderTF2Test.test_create_faster_rcnn_from_config_with_crop_feature0 (True)): 0.02s\n",
            "[       OK ] ModelBuilderTF2Test.test_create_faster_rcnn_from_config_with_crop_feature0 (True)\n",
            "[ RUN      ] ModelBuilderTF2Test.test_create_faster_rcnn_from_config_with_crop_feature1 (False)\n",
            "INFO:tensorflow:time(__main__.ModelBuilderTF2Test.test_create_faster_rcnn_from_config_with_crop_feature1 (False)): 0.01s\n",
            "I0417 01:10:25.521734 140329488418688 test_util.py:2374] time(__main__.ModelBuilderTF2Test.test_create_faster_rcnn_from_config_with_crop_feature1 (False)): 0.01s\n",
            "[       OK ] ModelBuilderTF2Test.test_create_faster_rcnn_from_config_with_crop_feature1 (False)\n",
            "[ RUN      ] ModelBuilderTF2Test.test_create_faster_rcnn_model_from_config_with_example_miner\n",
            "INFO:tensorflow:time(__main__.ModelBuilderTF2Test.test_create_faster_rcnn_model_from_config_with_example_miner): 0.01s\n",
            "I0417 01:10:25.535499 140329488418688 test_util.py:2374] time(__main__.ModelBuilderTF2Test.test_create_faster_rcnn_model_from_config_with_example_miner): 0.01s\n",
            "[       OK ] ModelBuilderTF2Test.test_create_faster_rcnn_model_from_config_with_example_miner\n",
            "[ RUN      ] ModelBuilderTF2Test.test_create_faster_rcnn_models_from_config_faster_rcnn_with_matmul\n",
            "INFO:tensorflow:time(__main__.ModelBuilderTF2Test.test_create_faster_rcnn_models_from_config_faster_rcnn_with_matmul): 0.1s\n",
            "I0417 01:10:25.637981 140329488418688 test_util.py:2374] time(__main__.ModelBuilderTF2Test.test_create_faster_rcnn_models_from_config_faster_rcnn_with_matmul): 0.1s\n",
            "[       OK ] ModelBuilderTF2Test.test_create_faster_rcnn_models_from_config_faster_rcnn_with_matmul\n",
            "[ RUN      ] ModelBuilderTF2Test.test_create_faster_rcnn_models_from_config_faster_rcnn_without_matmul\n",
            "INFO:tensorflow:time(__main__.ModelBuilderTF2Test.test_create_faster_rcnn_models_from_config_faster_rcnn_without_matmul): 0.1s\n",
            "I0417 01:10:25.741844 140329488418688 test_util.py:2374] time(__main__.ModelBuilderTF2Test.test_create_faster_rcnn_models_from_config_faster_rcnn_without_matmul): 0.1s\n",
            "[       OK ] ModelBuilderTF2Test.test_create_faster_rcnn_models_from_config_faster_rcnn_without_matmul\n",
            "[ RUN      ] ModelBuilderTF2Test.test_create_faster_rcnn_models_from_config_mask_rcnn_with_matmul\n",
            "INFO:tensorflow:time(__main__.ModelBuilderTF2Test.test_create_faster_rcnn_models_from_config_mask_rcnn_with_matmul): 0.09s\n",
            "I0417 01:10:25.836038 140329488418688 test_util.py:2374] time(__main__.ModelBuilderTF2Test.test_create_faster_rcnn_models_from_config_mask_rcnn_with_matmul): 0.09s\n",
            "[       OK ] ModelBuilderTF2Test.test_create_faster_rcnn_models_from_config_mask_rcnn_with_matmul\n",
            "[ RUN      ] ModelBuilderTF2Test.test_create_faster_rcnn_models_from_config_mask_rcnn_without_matmul\n",
            "INFO:tensorflow:time(__main__.ModelBuilderTF2Test.test_create_faster_rcnn_models_from_config_mask_rcnn_without_matmul): 0.1s\n",
            "I0417 01:10:25.932794 140329488418688 test_util.py:2374] time(__main__.ModelBuilderTF2Test.test_create_faster_rcnn_models_from_config_mask_rcnn_without_matmul): 0.1s\n",
            "[       OK ] ModelBuilderTF2Test.test_create_faster_rcnn_models_from_config_mask_rcnn_without_matmul\n",
            "[ RUN      ] ModelBuilderTF2Test.test_create_rfcn_model_from_config\n",
            "INFO:tensorflow:time(__main__.ModelBuilderTF2Test.test_create_rfcn_model_from_config): 0.09s\n",
            "I0417 01:10:26.025633 140329488418688 test_util.py:2374] time(__main__.ModelBuilderTF2Test.test_create_rfcn_model_from_config): 0.09s\n",
            "[       OK ] ModelBuilderTF2Test.test_create_rfcn_model_from_config\n",
            "[ RUN      ] ModelBuilderTF2Test.test_create_ssd_fpn_model_from_config\n",
            "INFO:tensorflow:time(__main__.ModelBuilderTF2Test.test_create_ssd_fpn_model_from_config): 0.03s\n",
            "I0417 01:10:26.052199 140329488418688 test_util.py:2374] time(__main__.ModelBuilderTF2Test.test_create_ssd_fpn_model_from_config): 0.03s\n",
            "[       OK ] ModelBuilderTF2Test.test_create_ssd_fpn_model_from_config\n",
            "[ RUN      ] ModelBuilderTF2Test.test_create_ssd_models_from_config\n",
            "I0417 01:10:26.221053 140329488418688 ssd_efficientnet_bifpn_feature_extractor.py:146] EfficientDet EfficientNet backbone version: efficientnet-b0\n",
            "I0417 01:10:26.221211 140329488418688 ssd_efficientnet_bifpn_feature_extractor.py:147] EfficientDet BiFPN num filters: 64\n",
            "I0417 01:10:26.221297 140329488418688 ssd_efficientnet_bifpn_feature_extractor.py:149] EfficientDet BiFPN num iterations: 3\n",
            "I0417 01:10:26.223499 140329488418688 efficientnet_model.py:144] round_filter input=32 output=32\n",
            "I0417 01:10:26.239271 140329488418688 efficientnet_model.py:144] round_filter input=32 output=32\n",
            "I0417 01:10:26.239419 140329488418688 efficientnet_model.py:144] round_filter input=16 output=16\n",
            "I0417 01:10:26.296073 140329488418688 efficientnet_model.py:144] round_filter input=16 output=16\n",
            "I0417 01:10:26.296222 140329488418688 efficientnet_model.py:144] round_filter input=24 output=24\n",
            "I0417 01:10:26.450399 140329488418688 efficientnet_model.py:144] round_filter input=24 output=24\n",
            "I0417 01:10:26.450594 140329488418688 efficientnet_model.py:144] round_filter input=40 output=40\n",
            "I0417 01:10:26.593101 140329488418688 efficientnet_model.py:144] round_filter input=40 output=40\n",
            "I0417 01:10:26.593256 140329488418688 efficientnet_model.py:144] round_filter input=80 output=80\n",
            "I0417 01:10:26.803244 140329488418688 efficientnet_model.py:144] round_filter input=80 output=80\n",
            "I0417 01:10:26.803395 140329488418688 efficientnet_model.py:144] round_filter input=112 output=112\n",
            "I0417 01:10:27.007805 140329488418688 efficientnet_model.py:144] round_filter input=112 output=112\n",
            "I0417 01:10:27.007954 140329488418688 efficientnet_model.py:144] round_filter input=192 output=192\n",
            "I0417 01:10:27.429960 140329488418688 efficientnet_model.py:144] round_filter input=192 output=192\n",
            "I0417 01:10:27.430133 140329488418688 efficientnet_model.py:144] round_filter input=320 output=320\n",
            "I0417 01:10:27.495716 140329488418688 efficientnet_model.py:144] round_filter input=1280 output=1280\n",
            "I0417 01:10:27.522520 140329488418688 efficientnet_model.py:454] Building model efficientnet with params ModelConfig(width_coefficient=1.0, depth_coefficient=1.0, resolution=224, dropout_rate=0.2, blocks=(BlockConfig(input_filters=32, output_filters=16, kernel_size=3, num_repeat=1, expand_ratio=1, strides=(1, 1), se_ratio=0.25, id_skip=True, fused_conv=False, conv_type='depthwise'), BlockConfig(input_filters=16, output_filters=24, kernel_size=3, num_repeat=2, expand_ratio=6, strides=(2, 2), se_ratio=0.25, id_skip=True, fused_conv=False, conv_type='depthwise'), BlockConfig(input_filters=24, output_filters=40, kernel_size=5, num_repeat=2, expand_ratio=6, strides=(2, 2), se_ratio=0.25, id_skip=True, fused_conv=False, conv_type='depthwise'), BlockConfig(input_filters=40, output_filters=80, kernel_size=3, num_repeat=3, expand_ratio=6, strides=(2, 2), se_ratio=0.25, id_skip=True, fused_conv=False, conv_type='depthwise'), BlockConfig(input_filters=80, output_filters=112, kernel_size=5, num_repeat=3, expand_ratio=6, strides=(1, 1), se_ratio=0.25, id_skip=True, fused_conv=False, conv_type='depthwise'), BlockConfig(input_filters=112, output_filters=192, kernel_size=5, num_repeat=4, expand_ratio=6, strides=(2, 2), se_ratio=0.25, id_skip=True, fused_conv=False, conv_type='depthwise'), BlockConfig(input_filters=192, output_filters=320, kernel_size=3, num_repeat=1, expand_ratio=6, strides=(1, 1), se_ratio=0.25, id_skip=True, fused_conv=False, conv_type='depthwise')), stem_base_filters=32, top_base_filters=1280, activation='simple_swish', batch_norm='default', bn_momentum=0.99, bn_epsilon=0.001, weight_decay=5e-06, drop_connect_rate=0.2, depth_divisor=8, min_depth=None, use_se=True, input_channels=3, num_classes=1000, model_name='efficientnet', rescale_input=False, data_format='channels_last', dtype='float32')\n",
            "I0417 01:10:27.570206 140329488418688 ssd_efficientnet_bifpn_feature_extractor.py:146] EfficientDet EfficientNet backbone version: efficientnet-b1\n",
            "I0417 01:10:27.570329 140329488418688 ssd_efficientnet_bifpn_feature_extractor.py:147] EfficientDet BiFPN num filters: 88\n",
            "I0417 01:10:27.570402 140329488418688 ssd_efficientnet_bifpn_feature_extractor.py:149] EfficientDet BiFPN num iterations: 4\n",
            "I0417 01:10:27.571896 140329488418688 efficientnet_model.py:144] round_filter input=32 output=32\n",
            "I0417 01:10:27.585072 140329488418688 efficientnet_model.py:144] round_filter input=32 output=32\n",
            "I0417 01:10:27.585181 140329488418688 efficientnet_model.py:144] round_filter input=16 output=16\n",
            "I0417 01:10:27.691444 140329488418688 efficientnet_model.py:144] round_filter input=16 output=16\n",
            "I0417 01:10:27.691556 140329488418688 efficientnet_model.py:144] round_filter input=24 output=24\n",
            "I0417 01:10:27.906023 140329488418688 efficientnet_model.py:144] round_filter input=24 output=24\n",
            "I0417 01:10:27.906173 140329488418688 efficientnet_model.py:144] round_filter input=40 output=40\n",
            "I0417 01:10:28.123934 140329488418688 efficientnet_model.py:144] round_filter input=40 output=40\n",
            "I0417 01:10:28.124091 140329488418688 efficientnet_model.py:144] round_filter input=80 output=80\n",
            "I0417 01:10:28.394174 140329488418688 efficientnet_model.py:144] round_filter input=80 output=80\n",
            "I0417 01:10:28.394334 140329488418688 efficientnet_model.py:144] round_filter input=112 output=112\n",
            "I0417 01:10:28.661934 140329488418688 efficientnet_model.py:144] round_filter input=112 output=112\n",
            "I0417 01:10:28.662090 140329488418688 efficientnet_model.py:144] round_filter input=192 output=192\n",
            "I0417 01:10:29.005428 140329488418688 efficientnet_model.py:144] round_filter input=192 output=192\n",
            "I0417 01:10:29.005614 140329488418688 efficientnet_model.py:144] round_filter input=320 output=320\n",
            "I0417 01:10:29.144260 140329488418688 efficientnet_model.py:144] round_filter input=1280 output=1280\n",
            "I0417 01:10:29.171349 140329488418688 efficientnet_model.py:454] Building model efficientnet with params ModelConfig(width_coefficient=1.0, depth_coefficient=1.1, resolution=240, dropout_rate=0.2, blocks=(BlockConfig(input_filters=32, output_filters=16, kernel_size=3, num_repeat=1, expand_ratio=1, strides=(1, 1), se_ratio=0.25, id_skip=True, fused_conv=False, conv_type='depthwise'), BlockConfig(input_filters=16, output_filters=24, kernel_size=3, num_repeat=2, expand_ratio=6, strides=(2, 2), se_ratio=0.25, id_skip=True, fused_conv=False, conv_type='depthwise'), BlockConfig(input_filters=24, output_filters=40, kernel_size=5, num_repeat=2, expand_ratio=6, strides=(2, 2), se_ratio=0.25, id_skip=True, fused_conv=False, conv_type='depthwise'), BlockConfig(input_filters=40, output_filters=80, kernel_size=3, num_repeat=3, expand_ratio=6, strides=(2, 2), se_ratio=0.25, id_skip=True, fused_conv=False, conv_type='depthwise'), BlockConfig(input_filters=80, output_filters=112, kernel_size=5, num_repeat=3, expand_ratio=6, strides=(1, 1), se_ratio=0.25, id_skip=True, fused_conv=False, conv_type='depthwise'), BlockConfig(input_filters=112, output_filters=192, kernel_size=5, num_repeat=4, expand_ratio=6, strides=(2, 2), se_ratio=0.25, id_skip=True, fused_conv=False, conv_type='depthwise'), BlockConfig(input_filters=192, output_filters=320, kernel_size=3, num_repeat=1, expand_ratio=6, strides=(1, 1), se_ratio=0.25, id_skip=True, fused_conv=False, conv_type='depthwise')), stem_base_filters=32, top_base_filters=1280, activation='simple_swish', batch_norm='default', bn_momentum=0.99, bn_epsilon=0.001, weight_decay=5e-06, drop_connect_rate=0.2, depth_divisor=8, min_depth=None, use_se=True, input_channels=3, num_classes=1000, model_name='efficientnet', rescale_input=False, data_format='channels_last', dtype='float32')\n",
            "I0417 01:10:29.229836 140329488418688 ssd_efficientnet_bifpn_feature_extractor.py:146] EfficientDet EfficientNet backbone version: efficientnet-b2\n",
            "I0417 01:10:29.229987 140329488418688 ssd_efficientnet_bifpn_feature_extractor.py:147] EfficientDet BiFPN num filters: 112\n",
            "I0417 01:10:29.230073 140329488418688 ssd_efficientnet_bifpn_feature_extractor.py:149] EfficientDet BiFPN num iterations: 5\n",
            "I0417 01:10:29.232403 140329488418688 efficientnet_model.py:144] round_filter input=32 output=32\n",
            "I0417 01:10:29.247956 140329488418688 efficientnet_model.py:144] round_filter input=32 output=32\n",
            "I0417 01:10:29.248058 140329488418688 efficientnet_model.py:144] round_filter input=16 output=16\n",
            "I0417 01:10:29.355300 140329488418688 efficientnet_model.py:144] round_filter input=16 output=16\n",
            "I0417 01:10:29.355518 140329488418688 efficientnet_model.py:144] round_filter input=24 output=24\n",
            "I0417 01:10:29.559811 140329488418688 efficientnet_model.py:144] round_filter input=24 output=24\n",
            "I0417 01:10:29.559949 140329488418688 efficientnet_model.py:144] round_filter input=40 output=48\n",
            "I0417 01:10:29.770986 140329488418688 efficientnet_model.py:144] round_filter input=40 output=48\n",
            "I0417 01:10:29.771134 140329488418688 efficientnet_model.py:144] round_filter input=80 output=88\n",
            "I0417 01:10:30.051133 140329488418688 efficientnet_model.py:144] round_filter input=80 output=88\n",
            "I0417 01:10:30.051302 140329488418688 efficientnet_model.py:144] round_filter input=112 output=120\n",
            "I0417 01:10:30.328500 140329488418688 efficientnet_model.py:144] round_filter input=112 output=120\n",
            "I0417 01:10:30.328686 140329488418688 efficientnet_model.py:144] round_filter input=192 output=208\n",
            "I0417 01:10:30.678822 140329488418688 efficientnet_model.py:144] round_filter input=192 output=208\n",
            "I0417 01:10:30.678985 140329488418688 efficientnet_model.py:144] round_filter input=320 output=352\n",
            "I0417 01:10:30.820937 140329488418688 efficientnet_model.py:144] round_filter input=1280 output=1408\n",
            "I0417 01:10:30.847409 140329488418688 efficientnet_model.py:454] Building model efficientnet with params ModelConfig(width_coefficient=1.1, depth_coefficient=1.2, resolution=260, dropout_rate=0.3, blocks=(BlockConfig(input_filters=32, output_filters=16, kernel_size=3, num_repeat=1, expand_ratio=1, strides=(1, 1), se_ratio=0.25, id_skip=True, fused_conv=False, conv_type='depthwise'), BlockConfig(input_filters=16, output_filters=24, kernel_size=3, num_repeat=2, expand_ratio=6, strides=(2, 2), se_ratio=0.25, id_skip=True, fused_conv=False, conv_type='depthwise'), BlockConfig(input_filters=24, output_filters=40, kernel_size=5, num_repeat=2, expand_ratio=6, strides=(2, 2), se_ratio=0.25, id_skip=True, fused_conv=False, conv_type='depthwise'), BlockConfig(input_filters=40, output_filters=80, kernel_size=3, num_repeat=3, expand_ratio=6, strides=(2, 2), se_ratio=0.25, id_skip=True, fused_conv=False, conv_type='depthwise'), BlockConfig(input_filters=80, output_filters=112, kernel_size=5, num_repeat=3, expand_ratio=6, strides=(1, 1), se_ratio=0.25, id_skip=True, fused_conv=False, conv_type='depthwise'), BlockConfig(input_filters=112, output_filters=192, kernel_size=5, num_repeat=4, expand_ratio=6, strides=(2, 2), se_ratio=0.25, id_skip=True, fused_conv=False, conv_type='depthwise'), BlockConfig(input_filters=192, output_filters=320, kernel_size=3, num_repeat=1, expand_ratio=6, strides=(1, 1), se_ratio=0.25, id_skip=True, fused_conv=False, conv_type='depthwise')), stem_base_filters=32, top_base_filters=1280, activation='simple_swish', batch_norm='default', bn_momentum=0.99, bn_epsilon=0.001, weight_decay=5e-06, drop_connect_rate=0.2, depth_divisor=8, min_depth=None, use_se=True, input_channels=3, num_classes=1000, model_name='efficientnet', rescale_input=False, data_format='channels_last', dtype='float32')\n",
            "I0417 01:10:30.903998 140329488418688 ssd_efficientnet_bifpn_feature_extractor.py:146] EfficientDet EfficientNet backbone version: efficientnet-b3\n",
            "I0417 01:10:30.904118 140329488418688 ssd_efficientnet_bifpn_feature_extractor.py:147] EfficientDet BiFPN num filters: 160\n",
            "I0417 01:10:30.904188 140329488418688 ssd_efficientnet_bifpn_feature_extractor.py:149] EfficientDet BiFPN num iterations: 6\n",
            "I0417 01:10:30.905647 140329488418688 efficientnet_model.py:144] round_filter input=32 output=40\n",
            "I0417 01:10:30.919361 140329488418688 efficientnet_model.py:144] round_filter input=32 output=40\n",
            "I0417 01:10:30.919465 140329488418688 efficientnet_model.py:144] round_filter input=16 output=24\n",
            "I0417 01:10:31.220626 140329488418688 efficientnet_model.py:144] round_filter input=16 output=24\n",
            "I0417 01:10:31.220809 140329488418688 efficientnet_model.py:144] round_filter input=24 output=32\n",
            "I0417 01:10:31.425736 140329488418688 efficientnet_model.py:144] round_filter input=24 output=32\n",
            "I0417 01:10:31.425895 140329488418688 efficientnet_model.py:144] round_filter input=40 output=48\n",
            "I0417 01:10:31.632951 140329488418688 efficientnet_model.py:144] round_filter input=40 output=48\n",
            "I0417 01:10:31.633109 140329488418688 efficientnet_model.py:144] round_filter input=80 output=96\n",
            "I0417 01:10:31.982488 140329488418688 efficientnet_model.py:144] round_filter input=80 output=96\n",
            "I0417 01:10:31.982696 140329488418688 efficientnet_model.py:144] round_filter input=112 output=136\n",
            "I0417 01:10:32.325836 140329488418688 efficientnet_model.py:144] round_filter input=112 output=136\n",
            "I0417 01:10:32.325992 140329488418688 efficientnet_model.py:144] round_filter input=192 output=232\n",
            "I0417 01:10:32.734267 140329488418688 efficientnet_model.py:144] round_filter input=192 output=232\n",
            "I0417 01:10:32.734429 140329488418688 efficientnet_model.py:144] round_filter input=320 output=384\n",
            "I0417 01:10:32.874598 140329488418688 efficientnet_model.py:144] round_filter input=1280 output=1536\n",
            "I0417 01:10:32.900869 140329488418688 efficientnet_model.py:454] Building model efficientnet with params ModelConfig(width_coefficient=1.2, depth_coefficient=1.4, resolution=300, dropout_rate=0.3, blocks=(BlockConfig(input_filters=32, output_filters=16, kernel_size=3, num_repeat=1, expand_ratio=1, strides=(1, 1), se_ratio=0.25, id_skip=True, fused_conv=False, conv_type='depthwise'), BlockConfig(input_filters=16, output_filters=24, kernel_size=3, num_repeat=2, expand_ratio=6, strides=(2, 2), se_ratio=0.25, id_skip=True, fused_conv=False, conv_type='depthwise'), BlockConfig(input_filters=24, output_filters=40, kernel_size=5, num_repeat=2, expand_ratio=6, strides=(2, 2), se_ratio=0.25, id_skip=True, fused_conv=False, conv_type='depthwise'), BlockConfig(input_filters=40, output_filters=80, kernel_size=3, num_repeat=3, expand_ratio=6, strides=(2, 2), se_ratio=0.25, id_skip=True, fused_conv=False, conv_type='depthwise'), BlockConfig(input_filters=80, output_filters=112, kernel_size=5, num_repeat=3, expand_ratio=6, strides=(1, 1), se_ratio=0.25, id_skip=True, fused_conv=False, conv_type='depthwise'), BlockConfig(input_filters=112, output_filters=192, kernel_size=5, num_repeat=4, expand_ratio=6, strides=(2, 2), se_ratio=0.25, id_skip=True, fused_conv=False, conv_type='depthwise'), BlockConfig(input_filters=192, output_filters=320, kernel_size=3, num_repeat=1, expand_ratio=6, strides=(1, 1), se_ratio=0.25, id_skip=True, fused_conv=False, conv_type='depthwise')), stem_base_filters=32, top_base_filters=1280, activation='simple_swish', batch_norm='default', bn_momentum=0.99, bn_epsilon=0.001, weight_decay=5e-06, drop_connect_rate=0.2, depth_divisor=8, min_depth=None, use_se=True, input_channels=3, num_classes=1000, model_name='efficientnet', rescale_input=False, data_format='channels_last', dtype='float32')\n",
            "I0417 01:10:32.964604 140329488418688 ssd_efficientnet_bifpn_feature_extractor.py:146] EfficientDet EfficientNet backbone version: efficientnet-b4\n",
            "I0417 01:10:32.964739 140329488418688 ssd_efficientnet_bifpn_feature_extractor.py:147] EfficientDet BiFPN num filters: 224\n",
            "I0417 01:10:32.964814 140329488418688 ssd_efficientnet_bifpn_feature_extractor.py:149] EfficientDet BiFPN num iterations: 7\n",
            "I0417 01:10:32.966394 140329488418688 efficientnet_model.py:144] round_filter input=32 output=48\n",
            "I0417 01:10:32.980910 140329488418688 efficientnet_model.py:144] round_filter input=32 output=48\n",
            "I0417 01:10:32.981024 140329488418688 efficientnet_model.py:144] round_filter input=16 output=24\n",
            "I0417 01:10:33.088333 140329488418688 efficientnet_model.py:144] round_filter input=16 output=24\n",
            "I0417 01:10:33.088448 140329488418688 efficientnet_model.py:144] round_filter input=24 output=32\n",
            "I0417 01:10:33.358754 140329488418688 efficientnet_model.py:144] round_filter input=24 output=32\n",
            "I0417 01:10:33.358920 140329488418688 efficientnet_model.py:144] round_filter input=40 output=56\n",
            "I0417 01:10:33.634377 140329488418688 efficientnet_model.py:144] round_filter input=40 output=56\n",
            "I0417 01:10:33.634552 140329488418688 efficientnet_model.py:144] round_filter input=80 output=112\n",
            "I0417 01:10:34.054193 140329488418688 efficientnet_model.py:144] round_filter input=80 output=112\n",
            "I0417 01:10:34.054426 140329488418688 efficientnet_model.py:144] round_filter input=112 output=160\n",
            "I0417 01:10:34.464092 140329488418688 efficientnet_model.py:144] round_filter input=112 output=160\n",
            "I0417 01:10:34.464255 140329488418688 efficientnet_model.py:144] round_filter input=192 output=272\n",
            "I0417 01:10:35.029861 140329488418688 efficientnet_model.py:144] round_filter input=192 output=272\n",
            "I0417 01:10:35.030045 140329488418688 efficientnet_model.py:144] round_filter input=320 output=448\n",
            "I0417 01:10:35.167180 140329488418688 efficientnet_model.py:144] round_filter input=1280 output=1792\n",
            "I0417 01:10:35.192784 140329488418688 efficientnet_model.py:454] Building model efficientnet with params ModelConfig(width_coefficient=1.4, depth_coefficient=1.8, resolution=380, dropout_rate=0.4, blocks=(BlockConfig(input_filters=32, output_filters=16, kernel_size=3, num_repeat=1, expand_ratio=1, strides=(1, 1), se_ratio=0.25, id_skip=True, fused_conv=False, conv_type='depthwise'), BlockConfig(input_filters=16, output_filters=24, kernel_size=3, num_repeat=2, expand_ratio=6, strides=(2, 2), se_ratio=0.25, id_skip=True, fused_conv=False, conv_type='depthwise'), BlockConfig(input_filters=24, output_filters=40, kernel_size=5, num_repeat=2, expand_ratio=6, strides=(2, 2), se_ratio=0.25, id_skip=True, fused_conv=False, conv_type='depthwise'), BlockConfig(input_filters=40, output_filters=80, kernel_size=3, num_repeat=3, expand_ratio=6, strides=(2, 2), se_ratio=0.25, id_skip=True, fused_conv=False, conv_type='depthwise'), BlockConfig(input_filters=80, output_filters=112, kernel_size=5, num_repeat=3, expand_ratio=6, strides=(1, 1), se_ratio=0.25, id_skip=True, fused_conv=False, conv_type='depthwise'), BlockConfig(input_filters=112, output_filters=192, kernel_size=5, num_repeat=4, expand_ratio=6, strides=(2, 2), se_ratio=0.25, id_skip=True, fused_conv=False, conv_type='depthwise'), BlockConfig(input_filters=192, output_filters=320, kernel_size=3, num_repeat=1, expand_ratio=6, strides=(1, 1), se_ratio=0.25, id_skip=True, fused_conv=False, conv_type='depthwise')), stem_base_filters=32, top_base_filters=1280, activation='simple_swish', batch_norm='default', bn_momentum=0.99, bn_epsilon=0.001, weight_decay=5e-06, drop_connect_rate=0.2, depth_divisor=8, min_depth=None, use_se=True, input_channels=3, num_classes=1000, model_name='efficientnet', rescale_input=False, data_format='channels_last', dtype='float32')\n",
            "I0417 01:10:35.453442 140329488418688 ssd_efficientnet_bifpn_feature_extractor.py:146] EfficientDet EfficientNet backbone version: efficientnet-b5\n",
            "I0417 01:10:35.453619 140329488418688 ssd_efficientnet_bifpn_feature_extractor.py:147] EfficientDet BiFPN num filters: 288\n",
            "I0417 01:10:35.453699 140329488418688 ssd_efficientnet_bifpn_feature_extractor.py:149] EfficientDet BiFPN num iterations: 7\n",
            "I0417 01:10:35.455236 140329488418688 efficientnet_model.py:144] round_filter input=32 output=48\n",
            "I0417 01:10:35.469482 140329488418688 efficientnet_model.py:144] round_filter input=32 output=48\n",
            "I0417 01:10:35.469617 140329488418688 efficientnet_model.py:144] round_filter input=16 output=24\n",
            "I0417 01:10:35.635004 140329488418688 efficientnet_model.py:144] round_filter input=16 output=24\n",
            "I0417 01:10:35.635145 140329488418688 efficientnet_model.py:144] round_filter input=24 output=40\n",
            "I0417 01:10:35.987298 140329488418688 efficientnet_model.py:144] round_filter input=24 output=40\n",
            "I0417 01:10:35.987459 140329488418688 efficientnet_model.py:144] round_filter input=40 output=64\n",
            "I0417 01:10:36.333143 140329488418688 efficientnet_model.py:144] round_filter input=40 output=64\n",
            "I0417 01:10:36.333299 140329488418688 efficientnet_model.py:144] round_filter input=80 output=128\n",
            "I0417 01:10:36.818358 140329488418688 efficientnet_model.py:144] round_filter input=80 output=128\n",
            "I0417 01:10:36.818530 140329488418688 efficientnet_model.py:144] round_filter input=112 output=176\n",
            "I0417 01:10:37.308519 140329488418688 efficientnet_model.py:144] round_filter input=112 output=176\n",
            "I0417 01:10:37.308681 140329488418688 efficientnet_model.py:144] round_filter input=192 output=304\n",
            "I0417 01:10:37.934421 140329488418688 efficientnet_model.py:144] round_filter input=192 output=304\n",
            "I0417 01:10:37.934599 140329488418688 efficientnet_model.py:144] round_filter input=320 output=512\n",
            "I0417 01:10:38.144188 140329488418688 efficientnet_model.py:144] round_filter input=1280 output=2048\n",
            "I0417 01:10:38.173254 140329488418688 efficientnet_model.py:454] Building model efficientnet with params ModelConfig(width_coefficient=1.6, depth_coefficient=2.2, resolution=456, dropout_rate=0.4, blocks=(BlockConfig(input_filters=32, output_filters=16, kernel_size=3, num_repeat=1, expand_ratio=1, strides=(1, 1), se_ratio=0.25, id_skip=True, fused_conv=False, conv_type='depthwise'), BlockConfig(input_filters=16, output_filters=24, kernel_size=3, num_repeat=2, expand_ratio=6, strides=(2, 2), se_ratio=0.25, id_skip=True, fused_conv=False, conv_type='depthwise'), BlockConfig(input_filters=24, output_filters=40, kernel_size=5, num_repeat=2, expand_ratio=6, strides=(2, 2), se_ratio=0.25, id_skip=True, fused_conv=False, conv_type='depthwise'), BlockConfig(input_filters=40, output_filters=80, kernel_size=3, num_repeat=3, expand_ratio=6, strides=(2, 2), se_ratio=0.25, id_skip=True, fused_conv=False, conv_type='depthwise'), BlockConfig(input_filters=80, output_filters=112, kernel_size=5, num_repeat=3, expand_ratio=6, strides=(1, 1), se_ratio=0.25, id_skip=True, fused_conv=False, conv_type='depthwise'), BlockConfig(input_filters=112, output_filters=192, kernel_size=5, num_repeat=4, expand_ratio=6, strides=(2, 2), se_ratio=0.25, id_skip=True, fused_conv=False, conv_type='depthwise'), BlockConfig(input_filters=192, output_filters=320, kernel_size=3, num_repeat=1, expand_ratio=6, strides=(1, 1), se_ratio=0.25, id_skip=True, fused_conv=False, conv_type='depthwise')), stem_base_filters=32, top_base_filters=1280, activation='simple_swish', batch_norm='default', bn_momentum=0.99, bn_epsilon=0.001, weight_decay=5e-06, drop_connect_rate=0.2, depth_divisor=8, min_depth=None, use_se=True, input_channels=3, num_classes=1000, model_name='efficientnet', rescale_input=False, data_format='channels_last', dtype='float32')\n",
            "I0417 01:10:38.272532 140329488418688 ssd_efficientnet_bifpn_feature_extractor.py:146] EfficientDet EfficientNet backbone version: efficientnet-b6\n",
            "I0417 01:10:38.272698 140329488418688 ssd_efficientnet_bifpn_feature_extractor.py:147] EfficientDet BiFPN num filters: 384\n",
            "I0417 01:10:38.272772 140329488418688 ssd_efficientnet_bifpn_feature_extractor.py:149] EfficientDet BiFPN num iterations: 8\n",
            "I0417 01:10:38.274291 140329488418688 efficientnet_model.py:144] round_filter input=32 output=56\n",
            "I0417 01:10:38.289774 140329488418688 efficientnet_model.py:144] round_filter input=32 output=56\n",
            "I0417 01:10:38.289886 140329488418688 efficientnet_model.py:144] round_filter input=16 output=32\n",
            "I0417 01:10:38.454494 140329488418688 efficientnet_model.py:144] round_filter input=16 output=32\n",
            "I0417 01:10:38.454639 140329488418688 efficientnet_model.py:144] round_filter input=24 output=40\n",
            "I0417 01:10:38.873100 140329488418688 efficientnet_model.py:144] round_filter input=24 output=40\n",
            "I0417 01:10:38.873260 140329488418688 efficientnet_model.py:144] round_filter input=40 output=72\n",
            "I0417 01:10:39.314308 140329488418688 efficientnet_model.py:144] round_filter input=40 output=72\n",
            "I0417 01:10:39.314471 140329488418688 efficientnet_model.py:144] round_filter input=80 output=144\n",
            "I0417 01:10:39.858107 140329488418688 efficientnet_model.py:144] round_filter input=80 output=144\n",
            "I0417 01:10:39.858275 140329488418688 efficientnet_model.py:144] round_filter input=112 output=200\n",
            "I0417 01:10:40.654874 140329488418688 efficientnet_model.py:144] round_filter input=112 output=200\n",
            "I0417 01:10:40.655042 140329488418688 efficientnet_model.py:144] round_filter input=192 output=344\n",
            "I0417 01:10:41.402155 140329488418688 efficientnet_model.py:144] round_filter input=192 output=344\n",
            "I0417 01:10:41.402326 140329488418688 efficientnet_model.py:144] round_filter input=320 output=576\n",
            "I0417 01:10:41.600370 140329488418688 efficientnet_model.py:144] round_filter input=1280 output=2304\n",
            "I0417 01:10:41.626002 140329488418688 efficientnet_model.py:454] Building model efficientnet with params ModelConfig(width_coefficient=1.8, depth_coefficient=2.6, resolution=528, dropout_rate=0.5, blocks=(BlockConfig(input_filters=32, output_filters=16, kernel_size=3, num_repeat=1, expand_ratio=1, strides=(1, 1), se_ratio=0.25, id_skip=True, fused_conv=False, conv_type='depthwise'), BlockConfig(input_filters=16, output_filters=24, kernel_size=3, num_repeat=2, expand_ratio=6, strides=(2, 2), se_ratio=0.25, id_skip=True, fused_conv=False, conv_type='depthwise'), BlockConfig(input_filters=24, output_filters=40, kernel_size=5, num_repeat=2, expand_ratio=6, strides=(2, 2), se_ratio=0.25, id_skip=True, fused_conv=False, conv_type='depthwise'), BlockConfig(input_filters=40, output_filters=80, kernel_size=3, num_repeat=3, expand_ratio=6, strides=(2, 2), se_ratio=0.25, id_skip=True, fused_conv=False, conv_type='depthwise'), BlockConfig(input_filters=80, output_filters=112, kernel_size=5, num_repeat=3, expand_ratio=6, strides=(1, 1), se_ratio=0.25, id_skip=True, fused_conv=False, conv_type='depthwise'), BlockConfig(input_filters=112, output_filters=192, kernel_size=5, num_repeat=4, expand_ratio=6, strides=(2, 2), se_ratio=0.25, id_skip=True, fused_conv=False, conv_type='depthwise'), BlockConfig(input_filters=192, output_filters=320, kernel_size=3, num_repeat=1, expand_ratio=6, strides=(1, 1), se_ratio=0.25, id_skip=True, fused_conv=False, conv_type='depthwise')), stem_base_filters=32, top_base_filters=1280, activation='simple_swish', batch_norm='default', bn_momentum=0.99, bn_epsilon=0.001, weight_decay=5e-06, drop_connect_rate=0.2, depth_divisor=8, min_depth=None, use_se=True, input_channels=3, num_classes=1000, model_name='efficientnet', rescale_input=False, data_format='channels_last', dtype='float32')\n",
            "I0417 01:10:41.721721 140329488418688 ssd_efficientnet_bifpn_feature_extractor.py:146] EfficientDet EfficientNet backbone version: efficientnet-b7\n",
            "I0417 01:10:41.721859 140329488418688 ssd_efficientnet_bifpn_feature_extractor.py:147] EfficientDet BiFPN num filters: 384\n",
            "I0417 01:10:41.721928 140329488418688 ssd_efficientnet_bifpn_feature_extractor.py:149] EfficientDet BiFPN num iterations: 8\n",
            "I0417 01:10:41.723403 140329488418688 efficientnet_model.py:144] round_filter input=32 output=64\n",
            "I0417 01:10:41.736811 140329488418688 efficientnet_model.py:144] round_filter input=32 output=64\n",
            "I0417 01:10:41.736913 140329488418688 efficientnet_model.py:144] round_filter input=16 output=32\n",
            "I0417 01:10:41.960025 140329488418688 efficientnet_model.py:144] round_filter input=16 output=32\n",
            "I0417 01:10:41.960164 140329488418688 efficientnet_model.py:144] round_filter input=24 output=48\n",
            "I0417 01:10:42.440078 140329488418688 efficientnet_model.py:144] round_filter input=24 output=48\n",
            "I0417 01:10:42.440235 140329488418688 efficientnet_model.py:144] round_filter input=40 output=80\n",
            "I0417 01:10:42.919625 140329488418688 efficientnet_model.py:144] round_filter input=40 output=80\n",
            "I0417 01:10:42.919796 140329488418688 efficientnet_model.py:144] round_filter input=80 output=160\n",
            "I0417 01:10:43.607091 140329488418688 efficientnet_model.py:144] round_filter input=80 output=160\n",
            "I0417 01:10:43.607256 140329488418688 efficientnet_model.py:144] round_filter input=112 output=224\n",
            "I0417 01:10:44.297267 140329488418688 efficientnet_model.py:144] round_filter input=112 output=224\n",
            "I0417 01:10:44.297435 140329488418688 efficientnet_model.py:144] round_filter input=192 output=384\n",
            "I0417 01:10:45.197848 140329488418688 efficientnet_model.py:144] round_filter input=192 output=384\n",
            "I0417 01:10:45.198020 140329488418688 efficientnet_model.py:144] round_filter input=320 output=640\n",
            "I0417 01:10:45.738233 140329488418688 efficientnet_model.py:144] round_filter input=1280 output=2560\n",
            "I0417 01:10:45.764097 140329488418688 efficientnet_model.py:454] Building model efficientnet with params ModelConfig(width_coefficient=2.0, depth_coefficient=3.1, resolution=600, dropout_rate=0.5, blocks=(BlockConfig(input_filters=32, output_filters=16, kernel_size=3, num_repeat=1, expand_ratio=1, strides=(1, 1), se_ratio=0.25, id_skip=True, fused_conv=False, conv_type='depthwise'), BlockConfig(input_filters=16, output_filters=24, kernel_size=3, num_repeat=2, expand_ratio=6, strides=(2, 2), se_ratio=0.25, id_skip=True, fused_conv=False, conv_type='depthwise'), BlockConfig(input_filters=24, output_filters=40, kernel_size=5, num_repeat=2, expand_ratio=6, strides=(2, 2), se_ratio=0.25, id_skip=True, fused_conv=False, conv_type='depthwise'), BlockConfig(input_filters=40, output_filters=80, kernel_size=3, num_repeat=3, expand_ratio=6, strides=(2, 2), se_ratio=0.25, id_skip=True, fused_conv=False, conv_type='depthwise'), BlockConfig(input_filters=80, output_filters=112, kernel_size=5, num_repeat=3, expand_ratio=6, strides=(1, 1), se_ratio=0.25, id_skip=True, fused_conv=False, conv_type='depthwise'), BlockConfig(input_filters=112, output_filters=192, kernel_size=5, num_repeat=4, expand_ratio=6, strides=(2, 2), se_ratio=0.25, id_skip=True, fused_conv=False, conv_type='depthwise'), BlockConfig(input_filters=192, output_filters=320, kernel_size=3, num_repeat=1, expand_ratio=6, strides=(1, 1), se_ratio=0.25, id_skip=True, fused_conv=False, conv_type='depthwise')), stem_base_filters=32, top_base_filters=1280, activation='simple_swish', batch_norm='default', bn_momentum=0.99, bn_epsilon=0.001, weight_decay=5e-06, drop_connect_rate=0.2, depth_divisor=8, min_depth=None, use_se=True, input_channels=3, num_classes=1000, model_name='efficientnet', rescale_input=False, data_format='channels_last', dtype='float32')\n",
            "INFO:tensorflow:time(__main__.ModelBuilderTF2Test.test_create_ssd_models_from_config): 19.83s\n",
            "I0417 01:10:45.878271 140329488418688 test_util.py:2374] time(__main__.ModelBuilderTF2Test.test_create_ssd_models_from_config): 19.83s\n",
            "[       OK ] ModelBuilderTF2Test.test_create_ssd_models_from_config\n",
            "[ RUN      ] ModelBuilderTF2Test.test_invalid_faster_rcnn_batchnorm_update\n",
            "INFO:tensorflow:time(__main__.ModelBuilderTF2Test.test_invalid_faster_rcnn_batchnorm_update): 0.0s\n",
            "I0417 01:10:45.884975 140329488418688 test_util.py:2374] time(__main__.ModelBuilderTF2Test.test_invalid_faster_rcnn_batchnorm_update): 0.0s\n",
            "[       OK ] ModelBuilderTF2Test.test_invalid_faster_rcnn_batchnorm_update\n",
            "[ RUN      ] ModelBuilderTF2Test.test_invalid_first_stage_nms_iou_threshold\n",
            "INFO:tensorflow:time(__main__.ModelBuilderTF2Test.test_invalid_first_stage_nms_iou_threshold): 0.0s\n",
            "I0417 01:10:45.886960 140329488418688 test_util.py:2374] time(__main__.ModelBuilderTF2Test.test_invalid_first_stage_nms_iou_threshold): 0.0s\n",
            "[       OK ] ModelBuilderTF2Test.test_invalid_first_stage_nms_iou_threshold\n",
            "[ RUN      ] ModelBuilderTF2Test.test_invalid_model_config_proto\n",
            "INFO:tensorflow:time(__main__.ModelBuilderTF2Test.test_invalid_model_config_proto): 0.0s\n",
            "I0417 01:10:45.887441 140329488418688 test_util.py:2374] time(__main__.ModelBuilderTF2Test.test_invalid_model_config_proto): 0.0s\n",
            "[       OK ] ModelBuilderTF2Test.test_invalid_model_config_proto\n",
            "[ RUN      ] ModelBuilderTF2Test.test_invalid_second_stage_batch_size\n",
            "INFO:tensorflow:time(__main__.ModelBuilderTF2Test.test_invalid_second_stage_batch_size): 0.0s\n",
            "I0417 01:10:45.888896 140329488418688 test_util.py:2374] time(__main__.ModelBuilderTF2Test.test_invalid_second_stage_batch_size): 0.0s\n",
            "[       OK ] ModelBuilderTF2Test.test_invalid_second_stage_batch_size\n",
            "[ RUN      ] ModelBuilderTF2Test.test_session\n",
            "[  SKIPPED ] ModelBuilderTF2Test.test_session\n",
            "[ RUN      ] ModelBuilderTF2Test.test_unknown_faster_rcnn_feature_extractor\n",
            "INFO:tensorflow:time(__main__.ModelBuilderTF2Test.test_unknown_faster_rcnn_feature_extractor): 0.0s\n",
            "I0417 01:10:45.890229 140329488418688 test_util.py:2374] time(__main__.ModelBuilderTF2Test.test_unknown_faster_rcnn_feature_extractor): 0.0s\n",
            "[       OK ] ModelBuilderTF2Test.test_unknown_faster_rcnn_feature_extractor\n",
            "[ RUN      ] ModelBuilderTF2Test.test_unknown_meta_architecture\n",
            "INFO:tensorflow:time(__main__.ModelBuilderTF2Test.test_unknown_meta_architecture): 0.0s\n",
            "I0417 01:10:45.890645 140329488418688 test_util.py:2374] time(__main__.ModelBuilderTF2Test.test_unknown_meta_architecture): 0.0s\n",
            "[       OK ] ModelBuilderTF2Test.test_unknown_meta_architecture\n",
            "[ RUN      ] ModelBuilderTF2Test.test_unknown_ssd_feature_extractor\n",
            "INFO:tensorflow:time(__main__.ModelBuilderTF2Test.test_unknown_ssd_feature_extractor): 0.0s\n",
            "I0417 01:10:45.891583 140329488418688 test_util.py:2374] time(__main__.ModelBuilderTF2Test.test_unknown_ssd_feature_extractor): 0.0s\n",
            "[       OK ] ModelBuilderTF2Test.test_unknown_ssd_feature_extractor\n",
            "----------------------------------------------------------------------\n",
            "Ran 24 tests in 26.147s\n",
            "\n",
            "OK (skipped=1)\n"
          ]
        }
      ]
    },
    {
      "cell_type": "code",
      "source": [
        "import object_detection"
      ],
      "metadata": {
        "id": "zaSIgRSyyBQb"
      },
      "execution_count": null,
      "outputs": []
    },
    {
      "cell_type": "code",
      "source": [
        "if os.name =='posix':\n",
        "    !wget {pretrained_model_url}\n",
        "    !mv {pretrained_model_name+'.tar.gz'} {paths['pretrained_model_path']}\n",
        "    !cd {paths['pretrained_model_path']} && tar -zxvf {pretrained_model_name+'.tar.gz'}\n",
        "if os.name == 'nt':\n",
        "    wget.download(pretrained_model_url)\n",
        "    !move {pretrained_model_name+'.tar.gz'} {paths['pretrained_model_path']}\n",
        "    !cd {paths['pretrained_model_path']} && tar -zxvf {pretrained_model_name+'.tar.gz'}"
      ],
      "metadata": {
        "colab": {
          "base_uri": "https://localhost:8080/"
        },
        "id": "C7m_UJwzyUP1",
        "outputId": "ea762819-ac1d-4744-95a6-6f9d9b37da0a"
      },
      "execution_count": null,
      "outputs": [
        {
          "output_type": "stream",
          "name": "stdout",
          "text": [
            "--2022-04-17 01:10:55--  http://download.tensorflow.org/models/object_detection/tf2/20200711/ssd_mobilenet_v2_fpnlite_320x320_coco17_tpu-8.tar.gz\n",
            "Resolving download.tensorflow.org (download.tensorflow.org)... 108.177.13.128, 2607:f8b0:400c:c13::80\n",
            "Connecting to download.tensorflow.org (download.tensorflow.org)|108.177.13.128|:80... connected.\n",
            "HTTP request sent, awaiting response... 200 OK\n",
            "Length: 20515344 (20M) [application/x-tar]\n",
            "Saving to: ‘ssd_mobilenet_v2_fpnlite_320x320_coco17_tpu-8.tar.gz’\n",
            "\n",
            "\r          ssd_mobil   0%[                    ]       0  --.-KB/s               \rssd_mobilenet_v2_fp 100%[===================>]  19.56M  --.-KB/s    in 0.09s   \n",
            "\n",
            "2022-04-17 01:10:55 (209 MB/s) - ‘ssd_mobilenet_v2_fpnlite_320x320_coco17_tpu-8.tar.gz’ saved [20515344/20515344]\n",
            "\n",
            "ssd_mobilenet_v2_fpnlite_320x320_coco17_tpu-8/\n",
            "ssd_mobilenet_v2_fpnlite_320x320_coco17_tpu-8/checkpoint/\n",
            "ssd_mobilenet_v2_fpnlite_320x320_coco17_tpu-8/checkpoint/ckpt-0.data-00000-of-00001\n",
            "ssd_mobilenet_v2_fpnlite_320x320_coco17_tpu-8/checkpoint/checkpoint\n",
            "ssd_mobilenet_v2_fpnlite_320x320_coco17_tpu-8/checkpoint/ckpt-0.index\n",
            "ssd_mobilenet_v2_fpnlite_320x320_coco17_tpu-8/pipeline.config\n",
            "ssd_mobilenet_v2_fpnlite_320x320_coco17_tpu-8/saved_model/\n",
            "ssd_mobilenet_v2_fpnlite_320x320_coco17_tpu-8/saved_model/saved_model.pb\n",
            "ssd_mobilenet_v2_fpnlite_320x320_coco17_tpu-8/saved_model/variables/\n",
            "ssd_mobilenet_v2_fpnlite_320x320_coco17_tpu-8/saved_model/variables/variables.data-00000-of-00001\n",
            "ssd_mobilenet_v2_fpnlite_320x320_coco17_tpu-8/saved_model/variables/variables.index\n"
          ]
        }
      ]
    },
    {
      "cell_type": "markdown",
      "source": [
        "# Create Label Map"
      ],
      "metadata": {
        "id": "OCEI5ZQUzelP"
      }
    },
    {
      "cell_type": "code",
      "source": [
        "labels = [{'name':'mask', 'id':1}, {'name':'no_mask', 'id':2}]\n",
        "\n",
        "with open(files['labelmap'], 'w') as f:\n",
        "    for label in labels:\n",
        "        f.write('item { \\n')\n",
        "        f.write('\\tname:\\'{}\\'\\n'.format(label['name']))\n",
        "        f.write('\\tid:{}\\n'.format(label['id']))\n",
        "        f.write('}\\n')"
      ],
      "metadata": {
        "id": "RtbzCaFyzVLr"
      },
      "execution_count": null,
      "outputs": []
    },
    {
      "cell_type": "markdown",
      "source": [
        "# Create TF Records"
      ],
      "metadata": {
        "id": "Z0k9Ui08-sey"
      }
    },
    {
      "cell_type": "code",
      "source": [
        "ARCHIVE_FILES = os.path.join(paths['image_path'], 'archive.tar.gz')\n",
        "if os.path.exists(ARCHIVE_FILES):\n",
        "  !tar -zxvf {ARCHIVE_FILES}"
      ],
      "metadata": {
        "colab": {
          "base_uri": "https://localhost:8080/"
        },
        "id": "3C_0rsOQ9qI0",
        "outputId": "047f27f0-6311-4403-df28-df743b950532"
      },
      "execution_count": null,
      "outputs": [
        {
          "output_type": "stream",
          "name": "stdout",
          "text": [
            "object_detection/workspace/images/train/\n",
            "object_detection/workspace/images/train/face_mask_048defa9-bb5f-11ec-8b0f-bca8a6723a43.jpg\n",
            "object_detection/workspace/images/train/face_mask_048defa9-bb5f-11ec-8b0f-bca8a6723a43.xml\n",
            "object_detection/workspace/images/train/face_mask_0a8a9d4a-bb5f-11ec-870c-bca8a6723a43.jpg\n",
            "object_detection/workspace/images/train/face_mask_0a8a9d4a-bb5f-11ec-870c-bca8a6723a43.xml\n",
            "object_detection/workspace/images/train/face_mask_10862b27-bb5f-11ec-b548-bca8a6723a43.jpg\n",
            "object_detection/workspace/images/train/face_mask_10862b27-bb5f-11ec-b548-bca8a6723a43.xml\n",
            "object_detection/workspace/images/train/face_mask_168008f8-bb5f-11ec-a87e-bca8a6723a43.jpg\n",
            "object_detection/workspace/images/train/face_mask_168008f8-bb5f-11ec-a87e-bca8a6723a43.xml\n",
            "object_detection/workspace/images/train/face_mask_1c7ab6a9-bb5f-11ec-8a62-bca8a6723a43.jpg\n",
            "object_detection/workspace/images/train/face_mask_1c7ab6a9-bb5f-11ec-8a62-bca8a6723a43.xml\n",
            "object_detection/workspace/images/train/face_mask_22770f34-bb5f-11ec-99b0-bca8a6723a43.jpg\n",
            "object_detection/workspace/images/train/face_mask_22770f34-bb5f-11ec-99b0-bca8a6723a43.xml\n",
            "object_detection/workspace/images/train/face_mask_28708dec-bb5f-11ec-9f37-bca8a6723a43.jpg\n",
            "object_detection/workspace/images/train/face_mask_28708dec-bb5f-11ec-9f37-bca8a6723a43.xml\n",
            "object_detection/workspace/images/train/face_mask_2e7c11e0-bb5f-11ec-93ce-bca8a6723a43.jpg\n",
            "object_detection/workspace/images/train/face_mask_2e7c11e0-bb5f-11ec-93ce-bca8a6723a43.xml\n",
            "object_detection/workspace/images/train/face_mask_3476c369-bb5f-11ec-bb58-bca8a6723a43.jpg\n",
            "object_detection/workspace/images/train/face_mask_3476c369-bb5f-11ec-bb58-bca8a6723a43.xml\n",
            "object_detection/workspace/images/train/face_mask_3a725e2b-bb5f-11ec-b4a8-bca8a6723a43.jpg\n",
            "object_detection/workspace/images/train/face_mask_3a725e2b-bb5f-11ec-b4a8-bca8a6723a43.xml\n",
            "object_detection/workspace/images/train/face_mask_406e4249-bb5f-11ec-97b7-bca8a6723a43.jpg\n",
            "object_detection/workspace/images/train/face_mask_406e4249-bb5f-11ec-97b7-bca8a6723a43.xml\n",
            "object_detection/workspace/images/train/face_mask_cea5f920-bb5e-11ec-b8f4-bca8a6723a43.jpg\n",
            "object_detection/workspace/images/train/face_mask_cea5f920-bb5e-11ec-b8f4-bca8a6723a43.xml\n",
            "object_detection/workspace/images/train/face_mask_d4a515ff-bb5e-11ec-be74-bca8a6723a43.jpg\n",
            "object_detection/workspace/images/train/face_mask_d4a515ff-bb5e-11ec-be74-bca8a6723a43.xml\n",
            "object_detection/workspace/images/train/face_mask_daa052b5-bb5e-11ec-99ab-bca8a6723a43.jpg\n",
            "object_detection/workspace/images/train/face_mask_daa052b5-bb5e-11ec-99ab-bca8a6723a43.xml\n",
            "object_detection/workspace/images/train/face_mask_e0ab4d64-bb5e-11ec-9b6e-bca8a6723a43.jpg\n",
            "object_detection/workspace/images/train/face_mask_e0ab4d64-bb5e-11ec-9b6e-bca8a6723a43.xml\n",
            "object_detection/workspace/images/train/face_mask_eca1d3cf-bb5e-11ec-a40d-bca8a6723a43.jpg\n",
            "object_detection/workspace/images/train/face_mask_eca1d3cf-bb5e-11ec-a40d-bca8a6723a43.xml\n",
            "object_detection/workspace/images/train/no_mask_4d45164d-bb5f-11ec-b55f-bca8a6723a43.jpg\n",
            "object_detection/workspace/images/train/no_mask_4d45164d-bb5f-11ec-b55f-bca8a6723a43.xml\n",
            "object_detection/workspace/images/train/no_mask_593d0a1c-bb5f-11ec-a0a2-bca8a6723a43.jpg\n",
            "object_detection/workspace/images/train/no_mask_593d0a1c-bb5f-11ec-a0a2-bca8a6723a43.xml\n",
            "object_detection/workspace/images/train/no_mask_5f383155-bb5f-11ec-991e-bca8a6723a43.jpg\n",
            "object_detection/workspace/images/train/no_mask_5f383155-bb5f-11ec-991e-bca8a6723a43.xml\n",
            "object_detection/workspace/images/train/no_mask_6534a624-bb5f-11ec-873c-bca8a6723a43.jpg\n",
            "object_detection/workspace/images/train/no_mask_6534a624-bb5f-11ec-873c-bca8a6723a43.xml\n",
            "object_detection/workspace/images/train/no_mask_6b2ee968-bb5f-11ec-b357-bca8a6723a43.jpg\n",
            "object_detection/workspace/images/train/no_mask_6b2ee968-bb5f-11ec-b357-bca8a6723a43.xml\n",
            "object_detection/workspace/images/train/no_mask_712a7d9b-bb5f-11ec-9a4a-bca8a6723a43.jpg\n",
            "object_detection/workspace/images/train/no_mask_712a7d9b-bb5f-11ec-9a4a-bca8a6723a43.xml\n",
            "object_detection/workspace/images/train/no_mask_7724b6e3-bb5f-11ec-8181-bca8a6723a43.jpg\n",
            "object_detection/workspace/images/train/no_mask_7724b6e3-bb5f-11ec-8181-bca8a6723a43.xml\n",
            "object_detection/workspace/images/train/no_mask_7d1eb520-bb5f-11ec-9c37-bca8a6723a43.jpg\n",
            "object_detection/workspace/images/train/no_mask_7d1eb520-bb5f-11ec-9c37-bca8a6723a43.xml\n",
            "object_detection/workspace/images/train/no_mask_831a03a9-bb5f-11ec-aaea-bca8a6723a43.jpg\n",
            "object_detection/workspace/images/train/no_mask_831a03a9-bb5f-11ec-aaea-bca8a6723a43.xml\n",
            "object_detection/workspace/images/train/no_mask_891504cc-bb5f-11ec-8218-bca8a6723a43.jpg\n",
            "object_detection/workspace/images/train/no_mask_891504cc-bb5f-11ec-8218-bca8a6723a43.xml\n",
            "object_detection/workspace/images/train/no_mask_8f1022e7-bb5f-11ec-aeae-bca8a6723a43.jpg\n",
            "object_detection/workspace/images/train/no_mask_8f1022e7-bb5f-11ec-aeae-bca8a6723a43.xml\n",
            "object_detection/workspace/images/train/no_mask_950a17cf-bb5f-11ec-887f-bca8a6723a43.jpg\n",
            "object_detection/workspace/images/train/no_mask_950a17cf-bb5f-11ec-887f-bca8a6723a43.xml\n",
            "object_detection/workspace/images/train/no_mask_9b053276-bb5f-11ec-bf69-bca8a6723a43.jpg\n",
            "object_detection/workspace/images/train/no_mask_9b053276-bb5f-11ec-bf69-bca8a6723a43.xml\n",
            "object_detection/workspace/images/train/no_mask_a0ff31eb-bb5f-11ec-bb88-bca8a6723a43.jpg\n",
            "object_detection/workspace/images/train/no_mask_a0ff31eb-bb5f-11ec-bb88-bca8a6723a43.xml\n",
            "object_detection/workspace/images/train/no_mask_a6fafeb0-bb5f-11ec-892e-bca8a6723a43.jpg\n",
            "object_detection/workspace/images/train/no_mask_a6fafeb0-bb5f-11ec-892e-bca8a6723a43.xml\n",
            "object_detection/workspace/images/train/no_mask_b2f20c43-bb5f-11ec-8fc9-bca8a6723a43.jpg\n",
            "object_detection/workspace/images/train/no_mask_b2f20c43-bb5f-11ec-8fc9-bca8a6723a43.xml\n",
            "object_detection/workspace/images/test/\n",
            "object_detection/workspace/images/test/face_mask_e6a68ae8-bb5e-11ec-8242-bca8a6723a43.jpg\n",
            "object_detection/workspace/images/test/face_mask_e6a68ae8-bb5e-11ec-8242-bca8a6723a43.xml\n",
            "object_detection/workspace/images/test/face_mask_f29d2ae9-bb5e-11ec-8787-bca8a6723a43.jpg\n",
            "object_detection/workspace/images/test/face_mask_f29d2ae9-bb5e-11ec-8787-bca8a6723a43.xml\n",
            "object_detection/workspace/images/test/face_mask_f897f659-bb5e-11ec-b9a8-bca8a6723a43.jpg\n",
            "object_detection/workspace/images/test/face_mask_f897f659-bb5e-11ec-b9a8-bca8a6723a43.xml\n",
            "object_detection/workspace/images/test/face_mask_fe941545-bb5e-11ec-add3-bca8a6723a43.jpg\n",
            "object_detection/workspace/images/test/face_mask_fe941545-bb5e-11ec-add3-bca8a6723a43.xml\n",
            "object_detection/workspace/images/test/no_mask_5341634a-bb5f-11ec-a2e5-bca8a6723a43.jpg\n",
            "object_detection/workspace/images/test/no_mask_5341634a-bb5f-11ec-a2e5-bca8a6723a43.xml\n",
            "object_detection/workspace/images/test/no_mask_acf731cf-bb5f-11ec-97a2-bca8a6723a43.jpg\n",
            "object_detection/workspace/images/test/no_mask_acf731cf-bb5f-11ec-97a2-bca8a6723a43.xml\n",
            "object_detection/workspace/images/test/no_mask_b8ec38d6-bb5f-11ec-b78f-bca8a6723a43.jpg\n",
            "object_detection/workspace/images/test/no_mask_b8ec38d6-bb5f-11ec-b78f-bca8a6723a43.xml\n",
            "object_detection/workspace/images/test/no_mask_bee70518-bb5f-11ec-b215-bca8a6723a43.jpg\n",
            "object_detection/workspace/images/test/no_mask_bee70518-bb5f-11ec-b215-bca8a6723a43.xml\n"
          ]
        }
      ]
    },
    {
      "cell_type": "code",
      "source": [
        "if not os.path.exists(files['tf_record_script']):\n",
        "    !git clone https://github.com/nicknochnack/GenerateTFRecord {paths['scripts_path']}"
      ],
      "metadata": {
        "colab": {
          "base_uri": "https://localhost:8080/"
        },
        "id": "X6jSiLUd_Qsk",
        "outputId": "6ee7e6d3-f681-4f01-8221-b7d68e3c9253"
      },
      "execution_count": null,
      "outputs": [
        {
          "output_type": "stream",
          "name": "stdout",
          "text": [
            "Cloning into 'object_detection/scripts'...\n",
            "remote: Enumerating objects: 3, done.\u001b[K\n",
            "remote: Counting objects:  33% (1/3)\u001b[K\rremote: Counting objects:  66% (2/3)\u001b[K\rremote: Counting objects: 100% (3/3)\u001b[K\rremote: Counting objects: 100% (3/3), done.\u001b[K\n",
            "remote: Compressing objects:  50% (1/2)\u001b[K\rremote: Compressing objects: 100% (2/2)\u001b[K\rremote: Compressing objects: 100% (2/2), done.\u001b[K\n",
            "remote: Total 3 (delta 0), reused 1 (delta 0), pack-reused 0\u001b[K\n",
            "Unpacking objects:  33% (1/3)   \rUnpacking objects:  66% (2/3)   \rUnpacking objects: 100% (3/3)   \rUnpacking objects: 100% (3/3), done.\n"
          ]
        }
      ]
    },
    {
      "cell_type": "code",
      "source": [
        "!python {files['tf_record_script']} -x {os.path.join(paths['image_path'], 'train')} -l {files['labelmap']} -o {os.path.join(paths['annotation_path'], 'train.record')} "
      ],
      "metadata": {
        "colab": {
          "base_uri": "https://localhost:8080/"
        },
        "id": "txpIhFoo_qpP",
        "outputId": "0d5d8b27-60e3-4222-fe77-82cbd053d4bf"
      },
      "execution_count": null,
      "outputs": [
        {
          "output_type": "stream",
          "name": "stdout",
          "text": [
            "Successfully created the TFRecord file: object_detection/workspace/annotations/train.record\n"
          ]
        }
      ]
    },
    {
      "cell_type": "code",
      "source": [
        "!python {files['tf_record_script']} -x {os.path.join(paths['image_path'], 'test')} -l {files['labelmap']} -o {os.path.join(paths['annotation_path'], 'test.record')} "
      ],
      "metadata": {
        "colab": {
          "base_uri": "https://localhost:8080/"
        },
        "id": "mIVU27UEPS2B",
        "outputId": "2f139a2d-4d6c-45d4-d4f1-3aefcd4483d5"
      },
      "execution_count": null,
      "outputs": [
        {
          "output_type": "stream",
          "name": "stdout",
          "text": [
            "Successfully created the TFRecord file: object_detection/workspace/annotations/test.record\n"
          ]
        }
      ]
    },
    {
      "cell_type": "markdown",
      "source": [
        "# Copy Model Config to Training Folder"
      ],
      "metadata": {
        "id": "zCUSgZWkAMjY"
      }
    },
    {
      "cell_type": "code",
      "source": [
        "if os.name =='posix':\n",
        "    !cp {os.path.join(paths['pretrained_model_path'], pretrained_model_name, 'pipeline.config')} {os.path.join(paths['checkpoint_path'])}\n",
        "if os.name == 'nt':\n",
        "    !copy {os.path.join(paths['pretrained_model_path'], pretrained_model_name, 'pipeline.config')} {os.path.join(paths['checkpoint_path'])}"
      ],
      "metadata": {
        "id": "ufupevCDAJY_"
      },
      "execution_count": null,
      "outputs": []
    },
    {
      "cell_type": "markdown",
      "source": [
        "# Update Config for Transfer Learning"
      ],
      "metadata": {
        "id": "rn9UgGISBADq"
      }
    },
    {
      "cell_type": "code",
      "source": [
        "import tensorflow as tf\n",
        "from object_detection.utils import config_util\n",
        "from object_detection.protos import pipeline_pb2\n",
        "from google.protobuf import text_format"
      ],
      "metadata": {
        "id": "J0KtZKamA6dE"
      },
      "execution_count": null,
      "outputs": []
    },
    {
      "cell_type": "code",
      "source": [
        "config = config_util.get_configs_from_pipeline_file(files['pipeline_config'])"
      ],
      "metadata": {
        "id": "2Z1EFuHDBLL3"
      },
      "execution_count": null,
      "outputs": []
    },
    {
      "cell_type": "code",
      "source": [
        "config"
      ],
      "metadata": {
        "colab": {
          "base_uri": "https://localhost:8080/"
        },
        "id": "isnxbPKdBXxH",
        "outputId": "07cbaa3f-e1da-40d7-c457-0d8a1fdfd915"
      },
      "execution_count": null,
      "outputs": [
        {
          "output_type": "execute_result",
          "data": {
            "text/plain": [
              "{'eval_config': metrics_set: \"coco_detection_metrics\"\n",
              " use_moving_averages: false,\n",
              " 'eval_input_config': label_map_path: \"PATH_TO_BE_CONFIGURED\"\n",
              " shuffle: false\n",
              " num_epochs: 1\n",
              " tf_record_input_reader {\n",
              "   input_path: \"PATH_TO_BE_CONFIGURED\"\n",
              " },\n",
              " 'eval_input_configs': [label_map_path: \"PATH_TO_BE_CONFIGURED\"\n",
              " shuffle: false\n",
              " num_epochs: 1\n",
              " tf_record_input_reader {\n",
              "   input_path: \"PATH_TO_BE_CONFIGURED\"\n",
              " }\n",
              " ],\n",
              " 'model': ssd {\n",
              "   num_classes: 90\n",
              "   image_resizer {\n",
              "     fixed_shape_resizer {\n",
              "       height: 320\n",
              "       width: 320\n",
              "     }\n",
              "   }\n",
              "   feature_extractor {\n",
              "     type: \"ssd_mobilenet_v2_fpn_keras\"\n",
              "     depth_multiplier: 1.0\n",
              "     min_depth: 16\n",
              "     conv_hyperparams {\n",
              "       regularizer {\n",
              "         l2_regularizer {\n",
              "           weight: 3.9999998989515007e-05\n",
              "         }\n",
              "       }\n",
              "       initializer {\n",
              "         random_normal_initializer {\n",
              "           mean: 0.0\n",
              "           stddev: 0.009999999776482582\n",
              "         }\n",
              "       }\n",
              "       activation: RELU_6\n",
              "       batch_norm {\n",
              "         decay: 0.996999979019165\n",
              "         scale: true\n",
              "         epsilon: 0.0010000000474974513\n",
              "       }\n",
              "     }\n",
              "     use_depthwise: true\n",
              "     override_base_feature_extractor_hyperparams: true\n",
              "     fpn {\n",
              "       min_level: 3\n",
              "       max_level: 7\n",
              "       additional_layer_depth: 128\n",
              "     }\n",
              "   }\n",
              "   box_coder {\n",
              "     faster_rcnn_box_coder {\n",
              "       y_scale: 10.0\n",
              "       x_scale: 10.0\n",
              "       height_scale: 5.0\n",
              "       width_scale: 5.0\n",
              "     }\n",
              "   }\n",
              "   matcher {\n",
              "     argmax_matcher {\n",
              "       matched_threshold: 0.5\n",
              "       unmatched_threshold: 0.5\n",
              "       ignore_thresholds: false\n",
              "       negatives_lower_than_unmatched: true\n",
              "       force_match_for_each_row: true\n",
              "       use_matmul_gather: true\n",
              "     }\n",
              "   }\n",
              "   similarity_calculator {\n",
              "     iou_similarity {\n",
              "     }\n",
              "   }\n",
              "   box_predictor {\n",
              "     weight_shared_convolutional_box_predictor {\n",
              "       conv_hyperparams {\n",
              "         regularizer {\n",
              "           l2_regularizer {\n",
              "             weight: 3.9999998989515007e-05\n",
              "           }\n",
              "         }\n",
              "         initializer {\n",
              "           random_normal_initializer {\n",
              "             mean: 0.0\n",
              "             stddev: 0.009999999776482582\n",
              "           }\n",
              "         }\n",
              "         activation: RELU_6\n",
              "         batch_norm {\n",
              "           decay: 0.996999979019165\n",
              "           scale: true\n",
              "           epsilon: 0.0010000000474974513\n",
              "         }\n",
              "       }\n",
              "       depth: 128\n",
              "       num_layers_before_predictor: 4\n",
              "       kernel_size: 3\n",
              "       class_prediction_bias_init: -4.599999904632568\n",
              "       share_prediction_tower: true\n",
              "       use_depthwise: true\n",
              "     }\n",
              "   }\n",
              "   anchor_generator {\n",
              "     multiscale_anchor_generator {\n",
              "       min_level: 3\n",
              "       max_level: 7\n",
              "       anchor_scale: 4.0\n",
              "       aspect_ratios: 1.0\n",
              "       aspect_ratios: 2.0\n",
              "       aspect_ratios: 0.5\n",
              "       scales_per_octave: 2\n",
              "     }\n",
              "   }\n",
              "   post_processing {\n",
              "     batch_non_max_suppression {\n",
              "       score_threshold: 9.99999993922529e-09\n",
              "       iou_threshold: 0.6000000238418579\n",
              "       max_detections_per_class: 100\n",
              "       max_total_detections: 100\n",
              "       use_static_shapes: false\n",
              "     }\n",
              "     score_converter: SIGMOID\n",
              "   }\n",
              "   normalize_loss_by_num_matches: true\n",
              "   loss {\n",
              "     localization_loss {\n",
              "       weighted_smooth_l1 {\n",
              "       }\n",
              "     }\n",
              "     classification_loss {\n",
              "       weighted_sigmoid_focal {\n",
              "         gamma: 2.0\n",
              "         alpha: 0.25\n",
              "       }\n",
              "     }\n",
              "     classification_weight: 1.0\n",
              "     localization_weight: 1.0\n",
              "   }\n",
              "   encode_background_as_zeros: true\n",
              "   normalize_loc_loss_by_codesize: true\n",
              "   inplace_batchnorm_update: true\n",
              "   freeze_batchnorm: false\n",
              " },\n",
              " 'train_config': batch_size: 128\n",
              " data_augmentation_options {\n",
              "   random_horizontal_flip {\n",
              "   }\n",
              " }\n",
              " data_augmentation_options {\n",
              "   random_crop_image {\n",
              "     min_object_covered: 0.0\n",
              "     min_aspect_ratio: 0.75\n",
              "     max_aspect_ratio: 3.0\n",
              "     min_area: 0.75\n",
              "     max_area: 1.0\n",
              "     overlap_thresh: 0.0\n",
              "   }\n",
              " }\n",
              " sync_replicas: true\n",
              " optimizer {\n",
              "   momentum_optimizer {\n",
              "     learning_rate {\n",
              "       cosine_decay_learning_rate {\n",
              "         learning_rate_base: 0.07999999821186066\n",
              "         total_steps: 50000\n",
              "         warmup_learning_rate: 0.026666000485420227\n",
              "         warmup_steps: 1000\n",
              "       }\n",
              "     }\n",
              "     momentum_optimizer_value: 0.8999999761581421\n",
              "   }\n",
              "   use_moving_average: false\n",
              " }\n",
              " fine_tune_checkpoint: \"PATH_TO_BE_CONFIGURED\"\n",
              " num_steps: 50000\n",
              " startup_delay_steps: 0.0\n",
              " replicas_to_aggregate: 8\n",
              " max_number_of_boxes: 100\n",
              " unpad_groundtruth_tensors: false\n",
              " fine_tune_checkpoint_type: \"classification\"\n",
              " fine_tune_checkpoint_version: V2,\n",
              " 'train_input_config': label_map_path: \"PATH_TO_BE_CONFIGURED\"\n",
              " tf_record_input_reader {\n",
              "   input_path: \"PATH_TO_BE_CONFIGURED\"\n",
              " }}"
            ]
          },
          "metadata": {},
          "execution_count": 20
        }
      ]
    },
    {
      "cell_type": "code",
      "source": [
        "pipeline_config = pipeline_pb2.TrainEvalPipelineConfig()\n",
        "with tf.io.gfile.GFile(files['pipeline_config'], \"r\") as f:                                                                                                                                                                                                                     \n",
        "    proto_str = f.read()                                                                                                                                                                                                                                          \n",
        "    text_format.Merge(proto_str, pipeline_config)  "
      ],
      "metadata": {
        "id": "a5T8PU9aBbO8"
      },
      "execution_count": null,
      "outputs": []
    },
    {
      "cell_type": "code",
      "source": [
        "pipeline_config.model.ssd.num_classes = len(labels)\n",
        "pipeline_config.train_config.batch_size = 4\n",
        "pipeline_config.train_config.fine_tune_checkpoint = os.path.join(paths['pretrained_model_path'], pretrained_model_name, 'checkpoint', 'ckpt-0')\n",
        "pipeline_config.train_config.fine_tune_checkpoint_type = \"detection\"\n",
        "pipeline_config.train_input_reader.label_map_path= files['labelmap']\n",
        "pipeline_config.train_input_reader.tf_record_input_reader.input_path[:] = [os.path.join(paths['annotation_path'], 'train.record')]\n",
        "pipeline_config.eval_input_reader[0].label_map_path = files['labelmap']\n",
        "pipeline_config.eval_input_reader[0].tf_record_input_reader.input_path[:] = [os.path.join(paths['annotation_path'], 'test.record')]"
      ],
      "metadata": {
        "id": "fz0H2DomBllL"
      },
      "execution_count": null,
      "outputs": []
    },
    {
      "cell_type": "code",
      "source": [
        "config_text = text_format.MessageToString(pipeline_config)                                                                                                                                                                                                        \n",
        "with tf.io.gfile.GFile(files['pipeline_config'], \"wb\") as f:                                                                                                                                                                                                                     \n",
        "    f.write(config_text)   "
      ],
      "metadata": {
        "id": "2rjiKnzNCi5n"
      },
      "execution_count": null,
      "outputs": []
    },
    {
      "cell_type": "markdown",
      "source": [
        "# Train Model"
      ],
      "metadata": {
        "id": "GZWGSv9HC6k8"
      }
    },
    {
      "cell_type": "code",
      "source": [
        "training_script = os.path.join(paths['apimodel_path'], 'research', 'object_detection', 'model_main_tf2.py')"
      ],
      "metadata": {
        "id": "LoqDd3BXC1dB"
      },
      "execution_count": null,
      "outputs": []
    },
    {
      "cell_type": "code",
      "source": [
        "command = \"python {} --model_dir={} --pipeline_config_path={} --num_train_steps=2000\".format(training_script, paths['checkpoint_path'],files['pipeline_config'])"
      ],
      "metadata": {
        "id": "cNkqxgc7EIpH"
      },
      "execution_count": null,
      "outputs": []
    },
    {
      "cell_type": "code",
      "source": [
        "print(command)"
      ],
      "metadata": {
        "colab": {
          "base_uri": "https://localhost:8080/"
        },
        "id": "CyQu-vVlEYbo",
        "outputId": "f7117e53-a2b8-4fa5-87a1-e64f60e055d5"
      },
      "execution_count": null,
      "outputs": [
        {
          "output_type": "stream",
          "name": "stdout",
          "text": [
            "python object_detection/models/research/object_detection/model_main_tf2.py --model_dir=object_detection/workspace/models/my_ssd_mobnet --pipeline_config_path=object_detection/workspace/models/my_ssd_mobnet/pipeline.config --num_train_steps=2000\n"
          ]
        }
      ]
    },
    {
      "cell_type": "code",
      "source": [
        "!pip uninstall opencv-python-headless==4.5.5.62\n",
        "!pip install opencv-python-headless==4.5.2.52"
      ],
      "metadata": {
        "colab": {
          "base_uri": "https://localhost:8080/"
        },
        "id": "H2nwr63UGv0Q",
        "outputId": "89ad3307-2312-400a-c71e-9720d12b7bf5"
      },
      "execution_count": null,
      "outputs": [
        {
          "output_type": "stream",
          "name": "stdout",
          "text": [
            "Found existing installation: opencv-python-headless 4.5.5.64\n",
            "Uninstalling opencv-python-headless-4.5.5.64:\n",
            "  Would remove:\n",
            "    /usr/local/lib/python3.7/dist-packages/cv2/*\n",
            "    /usr/local/lib/python3.7/dist-packages/opencv_python_headless-4.5.5.64.dist-info/*\n",
            "    /usr/local/lib/python3.7/dist-packages/opencv_python_headless.libs/libavcodec-65fa80df.so.58.134.100\n",
            "    /usr/local/lib/python3.7/dist-packages/opencv_python_headless.libs/libavformat-8ef5c7db.so.58.76.100\n",
            "    /usr/local/lib/python3.7/dist-packages/opencv_python_headless.libs/libavutil-9c768859.so.56.70.100\n",
            "    /usr/local/lib/python3.7/dist-packages/opencv_python_headless.libs/libbz2-a273e504.so.1.0.6\n",
            "    /usr/local/lib/python3.7/dist-packages/opencv_python_headless.libs/libcrypto-09fe7800.so.1.1\n",
            "    /usr/local/lib/python3.7/dist-packages/opencv_python_headless.libs/libgfortran-91cc3cb1.so.3.0.0\n",
            "    /usr/local/lib/python3.7/dist-packages/opencv_python_headless.libs/libopenblas-r0-f650aae0.3.3.so\n",
            "    /usr/local/lib/python3.7/dist-packages/opencv_python_headless.libs/libquadmath-96973f99.so.0.0.0\n",
            "    /usr/local/lib/python3.7/dist-packages/opencv_python_headless.libs/libssl-b92f8066.so.1.1\n",
            "    /usr/local/lib/python3.7/dist-packages/opencv_python_headless.libs/libswresample-99364a1c.so.3.9.100\n",
            "    /usr/local/lib/python3.7/dist-packages/opencv_python_headless.libs/libswscale-e6451464.so.5.9.100\n",
            "    /usr/local/lib/python3.7/dist-packages/opencv_python_headless.libs/libvpx-1016051d.so.7.0.0\n",
            "  Would not remove (might be manually added):\n",
            "    /usr/local/lib/python3.7/dist-packages/cv2/.libs/libQtCore-bbdab771.so.4.8.7\n",
            "    /usr/local/lib/python3.7/dist-packages/cv2/.libs/libQtGui-903938cd.so.4.8.7\n",
            "    /usr/local/lib/python3.7/dist-packages/cv2/.libs/libQtTest-1183da5d.so.4.8.7\n",
            "    /usr/local/lib/python3.7/dist-packages/cv2/.libs/libavcodec-3cdd3bd4.so.58.62.100\n",
            "    /usr/local/lib/python3.7/dist-packages/cv2/.libs/libavformat-69a63b50.so.58.35.100\n",
            "    /usr/local/lib/python3.7/dist-packages/cv2/.libs/libavutil-8e8979a8.so.56.36.100\n",
            "    /usr/local/lib/python3.7/dist-packages/cv2/.libs/libbz2-7225278b.so.1.0.3\n",
            "    /usr/local/lib/python3.7/dist-packages/cv2/.libs/libcrypto-a25ff511.so.1.1\n",
            "    /usr/local/lib/python3.7/dist-packages/cv2/.libs/libssl-fdf0b66c.so.1.1\n",
            "    /usr/local/lib/python3.7/dist-packages/cv2/.libs/libswresample-c6b3bbb9.so.3.6.100\n",
            "    /usr/local/lib/python3.7/dist-packages/cv2/.libs/libswscale-2d19f7d1.so.5.6.100\n",
            "    /usr/local/lib/python3.7/dist-packages/cv2/.libs/libvpx-c887ea55.so.6.1.0\n",
            "    /usr/local/lib/python3.7/dist-packages/cv2/.libs/libz-a147dcb0.so.1.2.3\n",
            "    /usr/local/lib/python3.7/dist-packages/cv2/cv2.cpython-37m-x86_64-linux-gnu.so\n",
            "Proceed (y/n)? y\n",
            "  Successfully uninstalled opencv-python-headless-4.5.5.64\n",
            "Collecting opencv-python-headless==4.5.2.52\n",
            "  Downloading opencv_python_headless-4.5.2.52-cp37-cp37m-manylinux2014_x86_64.whl (38.2 MB)\n",
            "\u001b[K     |████████████████████████████████| 38.2 MB 67.4 MB/s \n",
            "\u001b[?25hRequirement already satisfied: numpy>=1.14.5 in /usr/local/lib/python3.7/dist-packages (from opencv-python-headless==4.5.2.52) (1.21.5)\n",
            "Installing collected packages: opencv-python-headless\n",
            "Successfully installed opencv-python-headless-4.5.2.52\n"
          ]
        }
      ]
    },
    {
      "cell_type": "code",
      "source": [
        "!{command}"
      ],
      "metadata": {
        "colab": {
          "base_uri": "https://localhost:8080/"
        },
        "id": "MovcZxlcEZtK",
        "outputId": "fb2c9ff8-ab98-4b24-b232-c0fedff8f735"
      },
      "execution_count": null,
      "outputs": [
        {
          "output_type": "stream",
          "name": "stdout",
          "text": [
            "2022-04-17 01:12:41.591415: W tensorflow/core/common_runtime/gpu/gpu_bfc_allocator.cc:39] Overriding allow_growth setting because the TF_FORCE_GPU_ALLOW_GROWTH environment variable is set. Original config value was 0.\n",
            "INFO:tensorflow:Using MirroredStrategy with devices ('/job:localhost/replica:0/task:0/device:GPU:0',)\n",
            "I0417 01:12:41.598506 140163770820480 mirrored_strategy.py:374] Using MirroredStrategy with devices ('/job:localhost/replica:0/task:0/device:GPU:0',)\n",
            "INFO:tensorflow:Maybe overwriting train_steps: 2000\n",
            "I0417 01:12:41.608141 140163770820480 config_util.py:552] Maybe overwriting train_steps: 2000\n",
            "INFO:tensorflow:Maybe overwriting use_bfloat16: False\n",
            "I0417 01:12:41.608354 140163770820480 config_util.py:552] Maybe overwriting use_bfloat16: False\n",
            "WARNING:tensorflow:From /usr/local/lib/python3.7/dist-packages/object_detection/model_lib_v2.py:564: StrategyBase.experimental_distribute_datasets_from_function (from tensorflow.python.distribute.distribute_lib) is deprecated and will be removed in a future version.\n",
            "Instructions for updating:\n",
            "rename to distribute_datasets_from_function\n",
            "W0417 01:12:41.817794 140163770820480 deprecation.py:343] From /usr/local/lib/python3.7/dist-packages/object_detection/model_lib_v2.py:564: StrategyBase.experimental_distribute_datasets_from_function (from tensorflow.python.distribute.distribute_lib) is deprecated and will be removed in a future version.\n",
            "Instructions for updating:\n",
            "rename to distribute_datasets_from_function\n",
            "INFO:tensorflow:Reading unweighted datasets: ['object_detection/workspace/annotations/train.record']\n",
            "I0417 01:12:41.829621 140163770820480 dataset_builder.py:162] Reading unweighted datasets: ['object_detection/workspace/annotations/train.record']\n",
            "INFO:tensorflow:Reading record datasets for input file: ['object_detection/workspace/annotations/train.record']\n",
            "I0417 01:12:41.829849 140163770820480 dataset_builder.py:79] Reading record datasets for input file: ['object_detection/workspace/annotations/train.record']\n",
            "INFO:tensorflow:Number of filenames to read: 1\n",
            "I0417 01:12:41.829959 140163770820480 dataset_builder.py:80] Number of filenames to read: 1\n",
            "WARNING:tensorflow:num_readers has been reduced to 1 to match input file shards.\n",
            "W0417 01:12:41.830041 140163770820480 dataset_builder.py:87] num_readers has been reduced to 1 to match input file shards.\n",
            "WARNING:tensorflow:From /usr/local/lib/python3.7/dist-packages/object_detection/builders/dataset_builder.py:104: parallel_interleave (from tensorflow.python.data.experimental.ops.interleave_ops) is deprecated and will be removed in a future version.\n",
            "Instructions for updating:\n",
            "Use `tf.data.Dataset.interleave(map_func, cycle_length, block_length, num_parallel_calls=tf.data.AUTOTUNE)` instead. If sloppy execution is desired, use `tf.data.Options.deterministic`.\n",
            "W0417 01:12:41.835392 140163770820480 deprecation.py:343] From /usr/local/lib/python3.7/dist-packages/object_detection/builders/dataset_builder.py:104: parallel_interleave (from tensorflow.python.data.experimental.ops.interleave_ops) is deprecated and will be removed in a future version.\n",
            "Instructions for updating:\n",
            "Use `tf.data.Dataset.interleave(map_func, cycle_length, block_length, num_parallel_calls=tf.data.AUTOTUNE)` instead. If sloppy execution is desired, use `tf.data.Options.deterministic`.\n",
            "WARNING:tensorflow:From /usr/local/lib/python3.7/dist-packages/object_detection/builders/dataset_builder.py:236: DatasetV1.map_with_legacy_function (from tensorflow.python.data.ops.dataset_ops) is deprecated and will be removed in a future version.\n",
            "Instructions for updating:\n",
            "Use `tf.data.Dataset.map()\n",
            "W0417 01:12:41.869893 140163770820480 deprecation.py:343] From /usr/local/lib/python3.7/dist-packages/object_detection/builders/dataset_builder.py:236: DatasetV1.map_with_legacy_function (from tensorflow.python.data.ops.dataset_ops) is deprecated and will be removed in a future version.\n",
            "Instructions for updating:\n",
            "Use `tf.data.Dataset.map()\n",
            "WARNING:tensorflow:From /usr/local/lib/python3.7/dist-packages/tensorflow/python/util/dispatch.py:1082: sparse_to_dense (from tensorflow.python.ops.sparse_ops) is deprecated and will be removed in a future version.\n",
            "Instructions for updating:\n",
            "Create a `tf.sparse.SparseTensor` and use `tf.sparse.to_dense` instead.\n",
            "W0417 01:12:49.241151 140163770820480 deprecation.py:343] From /usr/local/lib/python3.7/dist-packages/tensorflow/python/util/dispatch.py:1082: sparse_to_dense (from tensorflow.python.ops.sparse_ops) is deprecated and will be removed in a future version.\n",
            "Instructions for updating:\n",
            "Create a `tf.sparse.SparseTensor` and use `tf.sparse.to_dense` instead.\n",
            "WARNING:tensorflow:From /usr/local/lib/python3.7/dist-packages/tensorflow/python/util/dispatch.py:1082: sample_distorted_bounding_box (from tensorflow.python.ops.image_ops_impl) is deprecated and will be removed in a future version.\n",
            "Instructions for updating:\n",
            "`seed2` arg is deprecated.Use sample_distorted_bounding_box_v2 instead.\n",
            "W0417 01:12:52.151833 140163770820480 deprecation.py:343] From /usr/local/lib/python3.7/dist-packages/tensorflow/python/util/dispatch.py:1082: sample_distorted_bounding_box (from tensorflow.python.ops.image_ops_impl) is deprecated and will be removed in a future version.\n",
            "Instructions for updating:\n",
            "`seed2` arg is deprecated.Use sample_distorted_bounding_box_v2 instead.\n",
            "WARNING:tensorflow:From /usr/local/lib/python3.7/dist-packages/tensorflow/python/util/dispatch.py:1082: to_float (from tensorflow.python.ops.math_ops) is deprecated and will be removed in a future version.\n",
            "Instructions for updating:\n",
            "Use `tf.cast` instead.\n",
            "W0417 01:12:53.730752 140163770820480 deprecation.py:343] From /usr/local/lib/python3.7/dist-packages/tensorflow/python/util/dispatch.py:1082: to_float (from tensorflow.python.ops.math_ops) is deprecated and will be removed in a future version.\n",
            "Instructions for updating:\n",
            "Use `tf.cast` instead.\n",
            "/usr/local/lib/python3.7/dist-packages/keras/backend.py:450: UserWarning: `tf.keras.backend.set_learning_phase` is deprecated and will be removed after 2020-10-11. To update it, simply pass a True/False value to the `training` argument of the `__call__` method of your layer or model.\n",
            "  warnings.warn('`tf.keras.backend.set_learning_phase` is deprecated and '\n",
            "INFO:tensorflow:Reduce to /job:localhost/replica:0/task:0/device:CPU:0 then broadcast to ('/job:localhost/replica:0/task:0/device:CPU:0',).\n",
            "I0417 01:13:26.302752 140163770820480 cross_device_ops.py:618] Reduce to /job:localhost/replica:0/task:0/device:CPU:0 then broadcast to ('/job:localhost/replica:0/task:0/device:CPU:0',).\n",
            "INFO:tensorflow:Reduce to /job:localhost/replica:0/task:0/device:CPU:0 then broadcast to ('/job:localhost/replica:0/task:0/device:CPU:0',).\n",
            "I0417 01:13:26.303929 140163770820480 cross_device_ops.py:618] Reduce to /job:localhost/replica:0/task:0/device:CPU:0 then broadcast to ('/job:localhost/replica:0/task:0/device:CPU:0',).\n",
            "INFO:tensorflow:Reduce to /job:localhost/replica:0/task:0/device:CPU:0 then broadcast to ('/job:localhost/replica:0/task:0/device:CPU:0',).\n",
            "I0417 01:13:26.306015 140163770820480 cross_device_ops.py:618] Reduce to /job:localhost/replica:0/task:0/device:CPU:0 then broadcast to ('/job:localhost/replica:0/task:0/device:CPU:0',).\n",
            "INFO:tensorflow:Reduce to /job:localhost/replica:0/task:0/device:CPU:0 then broadcast to ('/job:localhost/replica:0/task:0/device:CPU:0',).\n",
            "I0417 01:13:26.306879 140163770820480 cross_device_ops.py:618] Reduce to /job:localhost/replica:0/task:0/device:CPU:0 then broadcast to ('/job:localhost/replica:0/task:0/device:CPU:0',).\n",
            "INFO:tensorflow:Reduce to /job:localhost/replica:0/task:0/device:CPU:0 then broadcast to ('/job:localhost/replica:0/task:0/device:CPU:0',).\n",
            "I0417 01:13:26.308805 140163770820480 cross_device_ops.py:618] Reduce to /job:localhost/replica:0/task:0/device:CPU:0 then broadcast to ('/job:localhost/replica:0/task:0/device:CPU:0',).\n",
            "INFO:tensorflow:Reduce to /job:localhost/replica:0/task:0/device:CPU:0 then broadcast to ('/job:localhost/replica:0/task:0/device:CPU:0',).\n",
            "I0417 01:13:26.309673 140163770820480 cross_device_ops.py:618] Reduce to /job:localhost/replica:0/task:0/device:CPU:0 then broadcast to ('/job:localhost/replica:0/task:0/device:CPU:0',).\n",
            "INFO:tensorflow:Reduce to /job:localhost/replica:0/task:0/device:CPU:0 then broadcast to ('/job:localhost/replica:0/task:0/device:CPU:0',).\n",
            "I0417 01:13:26.311602 140163770820480 cross_device_ops.py:618] Reduce to /job:localhost/replica:0/task:0/device:CPU:0 then broadcast to ('/job:localhost/replica:0/task:0/device:CPU:0',).\n",
            "INFO:tensorflow:Reduce to /job:localhost/replica:0/task:0/device:CPU:0 then broadcast to ('/job:localhost/replica:0/task:0/device:CPU:0',).\n",
            "I0417 01:13:26.312442 140163770820480 cross_device_ops.py:618] Reduce to /job:localhost/replica:0/task:0/device:CPU:0 then broadcast to ('/job:localhost/replica:0/task:0/device:CPU:0',).\n",
            "INFO:tensorflow:Reduce to /job:localhost/replica:0/task:0/device:CPU:0 then broadcast to ('/job:localhost/replica:0/task:0/device:CPU:0',).\n",
            "I0417 01:13:26.314406 140163770820480 cross_device_ops.py:618] Reduce to /job:localhost/replica:0/task:0/device:CPU:0 then broadcast to ('/job:localhost/replica:0/task:0/device:CPU:0',).\n",
            "INFO:tensorflow:Reduce to /job:localhost/replica:0/task:0/device:CPU:0 then broadcast to ('/job:localhost/replica:0/task:0/device:CPU:0',).\n",
            "I0417 01:13:26.315271 140163770820480 cross_device_ops.py:618] Reduce to /job:localhost/replica:0/task:0/device:CPU:0 then broadcast to ('/job:localhost/replica:0/task:0/device:CPU:0',).\n",
            "WARNING:tensorflow:From /usr/local/lib/python3.7/dist-packages/tensorflow/python/util/deprecation.py:616: calling map_fn_v2 (from tensorflow.python.ops.map_fn) with dtype is deprecated and will be removed in a future version.\n",
            "Instructions for updating:\n",
            "Use fn_output_signature instead\n",
            "W0417 01:13:26.893263 140158595430144 deprecation.py:547] From /usr/local/lib/python3.7/dist-packages/tensorflow/python/util/deprecation.py:616: calling map_fn_v2 (from tensorflow.python.ops.map_fn) with dtype is deprecated and will be removed in a future version.\n",
            "Instructions for updating:\n",
            "Use fn_output_signature instead\n",
            "INFO:tensorflow:Step 100 per-step time 0.400s\n",
            "I0417 01:14:06.693638 140163770820480 model_lib_v2.py:707] Step 100 per-step time 0.400s\n",
            "INFO:tensorflow:{'Loss/classification_loss': 0.14319518,\n",
            " 'Loss/localization_loss': 0.1466979,\n",
            " 'Loss/regularization_loss': 0.15423958,\n",
            " 'Loss/total_loss': 0.4441327,\n",
            " 'learning_rate': 0.0319994}\n",
            "I0417 01:14:06.694016 140163770820480 model_lib_v2.py:708] {'Loss/classification_loss': 0.14319518,\n",
            " 'Loss/localization_loss': 0.1466979,\n",
            " 'Loss/regularization_loss': 0.15423958,\n",
            " 'Loss/total_loss': 0.4441327,\n",
            " 'learning_rate': 0.0319994}\n",
            "INFO:tensorflow:Step 200 per-step time 0.089s\n",
            "I0417 01:14:15.418386 140163770820480 model_lib_v2.py:707] Step 200 per-step time 0.089s\n",
            "INFO:tensorflow:{'Loss/classification_loss': 0.11550396,\n",
            " 'Loss/localization_loss': 0.10283716,\n",
            " 'Loss/regularization_loss': 0.15393436,\n",
            " 'Loss/total_loss': 0.37227547,\n",
            " 'learning_rate': 0.0373328}\n",
            "I0417 01:14:15.418681 140163770820480 model_lib_v2.py:708] {'Loss/classification_loss': 0.11550396,\n",
            " 'Loss/localization_loss': 0.10283716,\n",
            " 'Loss/regularization_loss': 0.15393436,\n",
            " 'Loss/total_loss': 0.37227547,\n",
            " 'learning_rate': 0.0373328}\n",
            "INFO:tensorflow:Step 300 per-step time 0.089s\n",
            "I0417 01:14:24.276069 140163770820480 model_lib_v2.py:707] Step 300 per-step time 0.089s\n",
            "INFO:tensorflow:{'Loss/classification_loss': 0.07555714,\n",
            " 'Loss/localization_loss': 0.04318737,\n",
            " 'Loss/regularization_loss': 0.15356247,\n",
            " 'Loss/total_loss': 0.27230698,\n",
            " 'learning_rate': 0.0426662}\n",
            "I0417 01:14:24.276360 140163770820480 model_lib_v2.py:708] {'Loss/classification_loss': 0.07555714,\n",
            " 'Loss/localization_loss': 0.04318737,\n",
            " 'Loss/regularization_loss': 0.15356247,\n",
            " 'Loss/total_loss': 0.27230698,\n",
            " 'learning_rate': 0.0426662}\n",
            "INFO:tensorflow:Step 400 per-step time 0.088s\n",
            "I0417 01:14:33.044395 140163770820480 model_lib_v2.py:707] Step 400 per-step time 0.088s\n",
            "INFO:tensorflow:{'Loss/classification_loss': 0.063898176,\n",
            " 'Loss/localization_loss': 0.057969686,\n",
            " 'Loss/regularization_loss': 0.1531216,\n",
            " 'Loss/total_loss': 0.2749895,\n",
            " 'learning_rate': 0.047999598}\n",
            "I0417 01:14:33.044782 140163770820480 model_lib_v2.py:708] {'Loss/classification_loss': 0.063898176,\n",
            " 'Loss/localization_loss': 0.057969686,\n",
            " 'Loss/regularization_loss': 0.1531216,\n",
            " 'Loss/total_loss': 0.2749895,\n",
            " 'learning_rate': 0.047999598}\n",
            "INFO:tensorflow:Step 500 per-step time 0.088s\n",
            "I0417 01:14:41.882017 140163770820480 model_lib_v2.py:707] Step 500 per-step time 0.088s\n",
            "INFO:tensorflow:{'Loss/classification_loss': 0.070967294,\n",
            " 'Loss/localization_loss': 0.07016371,\n",
            " 'Loss/regularization_loss': 0.15266088,\n",
            " 'Loss/total_loss': 0.2937919,\n",
            " 'learning_rate': 0.053333}\n",
            "I0417 01:14:41.882334 140163770820480 model_lib_v2.py:708] {'Loss/classification_loss': 0.070967294,\n",
            " 'Loss/localization_loss': 0.07016371,\n",
            " 'Loss/regularization_loss': 0.15266088,\n",
            " 'Loss/total_loss': 0.2937919,\n",
            " 'learning_rate': 0.053333}\n",
            "INFO:tensorflow:Step 600 per-step time 0.088s\n",
            "I0417 01:14:50.701705 140163770820480 model_lib_v2.py:707] Step 600 per-step time 0.088s\n",
            "INFO:tensorflow:{'Loss/classification_loss': 0.06673288,\n",
            " 'Loss/localization_loss': 0.04305184,\n",
            " 'Loss/regularization_loss': 0.15212859,\n",
            " 'Loss/total_loss': 0.2619133,\n",
            " 'learning_rate': 0.0586664}\n",
            "I0417 01:14:50.702008 140163770820480 model_lib_v2.py:708] {'Loss/classification_loss': 0.06673288,\n",
            " 'Loss/localization_loss': 0.04305184,\n",
            " 'Loss/regularization_loss': 0.15212859,\n",
            " 'Loss/total_loss': 0.2619133,\n",
            " 'learning_rate': 0.0586664}\n",
            "INFO:tensorflow:Step 700 per-step time 0.088s\n",
            "I0417 01:14:59.496671 140163770820480 model_lib_v2.py:707] Step 700 per-step time 0.088s\n",
            "INFO:tensorflow:{'Loss/classification_loss': 0.075953096,\n",
            " 'Loss/localization_loss': 0.036162682,\n",
            " 'Loss/regularization_loss': 0.15155643,\n",
            " 'Loss/total_loss': 0.2636722,\n",
            " 'learning_rate': 0.0639998}\n",
            "I0417 01:14:59.496995 140163770820480 model_lib_v2.py:708] {'Loss/classification_loss': 0.075953096,\n",
            " 'Loss/localization_loss': 0.036162682,\n",
            " 'Loss/regularization_loss': 0.15155643,\n",
            " 'Loss/total_loss': 0.2636722,\n",
            " 'learning_rate': 0.0639998}\n",
            "INFO:tensorflow:Step 800 per-step time 0.090s\n",
            "I0417 01:15:08.532648 140163770820480 model_lib_v2.py:707] Step 800 per-step time 0.090s\n",
            "INFO:tensorflow:{'Loss/classification_loss': 0.06281314,\n",
            " 'Loss/localization_loss': 0.019796712,\n",
            " 'Loss/regularization_loss': 0.15093188,\n",
            " 'Loss/total_loss': 0.23354173,\n",
            " 'learning_rate': 0.069333196}\n",
            "I0417 01:15:08.532953 140163770820480 model_lib_v2.py:708] {'Loss/classification_loss': 0.06281314,\n",
            " 'Loss/localization_loss': 0.019796712,\n",
            " 'Loss/regularization_loss': 0.15093188,\n",
            " 'Loss/total_loss': 0.23354173,\n",
            " 'learning_rate': 0.069333196}\n",
            "INFO:tensorflow:Step 900 per-step time 0.091s\n",
            "I0417 01:15:17.638608 140163770820480 model_lib_v2.py:707] Step 900 per-step time 0.091s\n",
            "INFO:tensorflow:{'Loss/classification_loss': 0.085478626,\n",
            " 'Loss/localization_loss': 0.043309487,\n",
            " 'Loss/regularization_loss': 0.1502231,\n",
            " 'Loss/total_loss': 0.27901122,\n",
            " 'learning_rate': 0.074666604}\n",
            "I0417 01:15:17.638928 140163770820480 model_lib_v2.py:708] {'Loss/classification_loss': 0.085478626,\n",
            " 'Loss/localization_loss': 0.043309487,\n",
            " 'Loss/regularization_loss': 0.1502231,\n",
            " 'Loss/total_loss': 0.27901122,\n",
            " 'learning_rate': 0.074666604}\n",
            "INFO:tensorflow:Step 1000 per-step time 0.090s\n",
            "I0417 01:15:26.606866 140163770820480 model_lib_v2.py:707] Step 1000 per-step time 0.090s\n",
            "INFO:tensorflow:{'Loss/classification_loss': 0.04559721,\n",
            " 'Loss/localization_loss': 0.02210248,\n",
            " 'Loss/regularization_loss': 0.14949779,\n",
            " 'Loss/total_loss': 0.21719748,\n",
            " 'learning_rate': 0.08}\n",
            "I0417 01:15:26.607167 140163770820480 model_lib_v2.py:708] {'Loss/classification_loss': 0.04559721,\n",
            " 'Loss/localization_loss': 0.02210248,\n",
            " 'Loss/regularization_loss': 0.14949779,\n",
            " 'Loss/total_loss': 0.21719748,\n",
            " 'learning_rate': 0.08}\n",
            "INFO:tensorflow:Step 1100 per-step time 0.094s\n",
            "I0417 01:15:35.997860 140163770820480 model_lib_v2.py:707] Step 1100 per-step time 0.094s\n",
            "INFO:tensorflow:{'Loss/classification_loss': 0.05240871,\n",
            " 'Loss/localization_loss': 0.020407803,\n",
            " 'Loss/regularization_loss': 0.14870773,\n",
            " 'Loss/total_loss': 0.22152424,\n",
            " 'learning_rate': 0.07999918}\n",
            "I0417 01:15:35.998180 140163770820480 model_lib_v2.py:708] {'Loss/classification_loss': 0.05240871,\n",
            " 'Loss/localization_loss': 0.020407803,\n",
            " 'Loss/regularization_loss': 0.14870773,\n",
            " 'Loss/total_loss': 0.22152424,\n",
            " 'learning_rate': 0.07999918}\n",
            "INFO:tensorflow:Step 1200 per-step time 0.091s\n",
            "I0417 01:15:45.081122 140163770820480 model_lib_v2.py:707] Step 1200 per-step time 0.091s\n",
            "INFO:tensorflow:{'Loss/classification_loss': 0.068862855,\n",
            " 'Loss/localization_loss': 0.030005684,\n",
            " 'Loss/regularization_loss': 0.14791201,\n",
            " 'Loss/total_loss': 0.24678054,\n",
            " 'learning_rate': 0.079996705}\n",
            "I0417 01:15:45.081437 140163770820480 model_lib_v2.py:708] {'Loss/classification_loss': 0.068862855,\n",
            " 'Loss/localization_loss': 0.030005684,\n",
            " 'Loss/regularization_loss': 0.14791201,\n",
            " 'Loss/total_loss': 0.24678054,\n",
            " 'learning_rate': 0.079996705}\n",
            "INFO:tensorflow:Step 1300 per-step time 0.091s\n",
            "I0417 01:15:54.180280 140163770820480 model_lib_v2.py:707] Step 1300 per-step time 0.091s\n",
            "INFO:tensorflow:{'Loss/classification_loss': 0.040053044,\n",
            " 'Loss/localization_loss': 0.011737265,\n",
            " 'Loss/regularization_loss': 0.14718324,\n",
            " 'Loss/total_loss': 0.19897355,\n",
            " 'learning_rate': 0.0799926}\n",
            "I0417 01:15:54.180587 140163770820480 model_lib_v2.py:708] {'Loss/classification_loss': 0.040053044,\n",
            " 'Loss/localization_loss': 0.011737265,\n",
            " 'Loss/regularization_loss': 0.14718324,\n",
            " 'Loss/total_loss': 0.19897355,\n",
            " 'learning_rate': 0.0799926}\n",
            "INFO:tensorflow:Step 1400 per-step time 0.091s\n",
            "I0417 01:16:03.295615 140163770820480 model_lib_v2.py:707] Step 1400 per-step time 0.091s\n",
            "INFO:tensorflow:{'Loss/classification_loss': 0.050894197,\n",
            " 'Loss/localization_loss': 0.046097912,\n",
            " 'Loss/regularization_loss': 0.14657462,\n",
            " 'Loss/total_loss': 0.24356672,\n",
            " 'learning_rate': 0.07998685}\n",
            "I0417 01:16:03.295958 140163770820480 model_lib_v2.py:708] {'Loss/classification_loss': 0.050894197,\n",
            " 'Loss/localization_loss': 0.046097912,\n",
            " 'Loss/regularization_loss': 0.14657462,\n",
            " 'Loss/total_loss': 0.24356672,\n",
            " 'learning_rate': 0.07998685}\n",
            "INFO:tensorflow:Step 1500 per-step time 0.092s\n",
            "I0417 01:16:12.452433 140163770820480 model_lib_v2.py:707] Step 1500 per-step time 0.092s\n",
            "INFO:tensorflow:{'Loss/classification_loss': 0.050565865,\n",
            " 'Loss/localization_loss': 0.02095468,\n",
            " 'Loss/regularization_loss': 0.145769,\n",
            " 'Loss/total_loss': 0.21728954,\n",
            " 'learning_rate': 0.07997945}\n",
            "I0417 01:16:12.452764 140163770820480 model_lib_v2.py:708] {'Loss/classification_loss': 0.050565865,\n",
            " 'Loss/localization_loss': 0.02095468,\n",
            " 'Loss/regularization_loss': 0.145769,\n",
            " 'Loss/total_loss': 0.21728954,\n",
            " 'learning_rate': 0.07997945}\n",
            "INFO:tensorflow:Step 1600 per-step time 0.091s\n",
            "I0417 01:16:21.583512 140163770820480 model_lib_v2.py:707] Step 1600 per-step time 0.091s\n",
            "INFO:tensorflow:{'Loss/classification_loss': 0.06884452,\n",
            " 'Loss/localization_loss': 0.015280594,\n",
            " 'Loss/regularization_loss': 0.14493474,\n",
            " 'Loss/total_loss': 0.22905986,\n",
            " 'learning_rate': 0.079970405}\n",
            "I0417 01:16:21.583844 140163770820480 model_lib_v2.py:708] {'Loss/classification_loss': 0.06884452,\n",
            " 'Loss/localization_loss': 0.015280594,\n",
            " 'Loss/regularization_loss': 0.14493474,\n",
            " 'Loss/total_loss': 0.22905986,\n",
            " 'learning_rate': 0.079970405}\n",
            "INFO:tensorflow:Step 1700 per-step time 0.092s\n",
            "I0417 01:16:30.819677 140163770820480 model_lib_v2.py:707] Step 1700 per-step time 0.092s\n",
            "INFO:tensorflow:{'Loss/classification_loss': 0.032898102,\n",
            " 'Loss/localization_loss': 0.009179272,\n",
            " 'Loss/regularization_loss': 0.1441105,\n",
            " 'Loss/total_loss': 0.18618788,\n",
            " 'learning_rate': 0.07995972}\n",
            "I0417 01:16:30.819995 140163770820480 model_lib_v2.py:708] {'Loss/classification_loss': 0.032898102,\n",
            " 'Loss/localization_loss': 0.009179272,\n",
            " 'Loss/regularization_loss': 0.1441105,\n",
            " 'Loss/total_loss': 0.18618788,\n",
            " 'learning_rate': 0.07995972}\n",
            "INFO:tensorflow:Step 1800 per-step time 0.090s\n",
            "I0417 01:16:39.865227 140163770820480 model_lib_v2.py:707] Step 1800 per-step time 0.090s\n",
            "INFO:tensorflow:{'Loss/classification_loss': 0.05500425,\n",
            " 'Loss/localization_loss': 0.025918083,\n",
            " 'Loss/regularization_loss': 0.14335503,\n",
            " 'Loss/total_loss': 0.22427736,\n",
            " 'learning_rate': 0.0799474}\n",
            "I0417 01:16:39.865527 140163770820480 model_lib_v2.py:708] {'Loss/classification_loss': 0.05500425,\n",
            " 'Loss/localization_loss': 0.025918083,\n",
            " 'Loss/regularization_loss': 0.14335503,\n",
            " 'Loss/total_loss': 0.22427736,\n",
            " 'learning_rate': 0.0799474}\n",
            "INFO:tensorflow:Step 1900 per-step time 0.092s\n",
            "I0417 01:16:49.050542 140163770820480 model_lib_v2.py:707] Step 1900 per-step time 0.092s\n",
            "INFO:tensorflow:{'Loss/classification_loss': 0.023888705,\n",
            " 'Loss/localization_loss': 0.010547648,\n",
            " 'Loss/regularization_loss': 0.1425363,\n",
            " 'Loss/total_loss': 0.17697266,\n",
            " 'learning_rate': 0.07993342}\n",
            "I0417 01:16:49.050849 140163770820480 model_lib_v2.py:708] {'Loss/classification_loss': 0.023888705,\n",
            " 'Loss/localization_loss': 0.010547648,\n",
            " 'Loss/regularization_loss': 0.1425363,\n",
            " 'Loss/total_loss': 0.17697266,\n",
            " 'learning_rate': 0.07993342}\n",
            "INFO:tensorflow:Step 2000 per-step time 0.091s\n",
            "I0417 01:16:58.099189 140163770820480 model_lib_v2.py:707] Step 2000 per-step time 0.091s\n",
            "INFO:tensorflow:{'Loss/classification_loss': 0.10381897,\n",
            " 'Loss/localization_loss': 0.026245574,\n",
            " 'Loss/regularization_loss': 0.14174218,\n",
            " 'Loss/total_loss': 0.27180672,\n",
            " 'learning_rate': 0.07991781}\n",
            "I0417 01:16:58.099507 140163770820480 model_lib_v2.py:708] {'Loss/classification_loss': 0.10381897,\n",
            " 'Loss/localization_loss': 0.026245574,\n",
            " 'Loss/regularization_loss': 0.14174218,\n",
            " 'Loss/total_loss': 0.27180672,\n",
            " 'learning_rate': 0.07991781}\n"
          ]
        }
      ]
    },
    {
      "cell_type": "markdown",
      "source": [
        "# Evaluate Model"
      ],
      "metadata": {
        "id": "OhvW9Z3WI5Jz"
      }
    },
    {
      "cell_type": "code",
      "source": [
        "command = \"python {} --model_dir={} --pipeline_config_path={} --checkpoint_dir={}\".format(training_script, paths['checkpoint_path'],files['pipeline_config'], paths['checkpoint_path'])"
      ],
      "metadata": {
        "id": "5Hh_97BkHFMw"
      },
      "execution_count": null,
      "outputs": []
    },
    {
      "cell_type": "code",
      "source": [
        "print(command)"
      ],
      "metadata": {
        "colab": {
          "base_uri": "https://localhost:8080/"
        },
        "id": "m5ZrMK4qMufQ",
        "outputId": "1e04166f-6e9a-4686-8ac9-537a9bd6ab3a"
      },
      "execution_count": null,
      "outputs": [
        {
          "output_type": "stream",
          "name": "stdout",
          "text": [
            "python object_detection/models/research/object_detection/model_main_tf2.py --model_dir=object_detection/workspace/models/my_ssd_mobnet --pipeline_config_path=object_detection/workspace/models/my_ssd_mobnet/pipeline.config --checkpoint_dir=object_detection/workspace/models/my_ssd_mobnet\n"
          ]
        }
      ]
    },
    {
      "cell_type": "code",
      "source": [
        "!{command}"
      ],
      "metadata": {
        "colab": {
          "base_uri": "https://localhost:8080/"
        },
        "id": "SlIExpx-JM1M",
        "outputId": "000d2cac-d2d2-4313-ee85-bee55a657399"
      },
      "execution_count": null,
      "outputs": [
        {
          "output_type": "stream",
          "name": "stdout",
          "text": [
            "WARNING:tensorflow:Forced number of epochs for all eval validations to be 1.\n",
            "W0414 21:24:09.691791 140399124526976 model_lib_v2.py:1090] Forced number of epochs for all eval validations to be 1.\n",
            "INFO:tensorflow:Maybe overwriting sample_1_of_n_eval_examples: None\n",
            "I0414 21:24:09.692036 140399124526976 config_util.py:552] Maybe overwriting sample_1_of_n_eval_examples: None\n",
            "INFO:tensorflow:Maybe overwriting use_bfloat16: False\n",
            "I0414 21:24:09.692195 140399124526976 config_util.py:552] Maybe overwriting use_bfloat16: False\n",
            "INFO:tensorflow:Maybe overwriting eval_num_epochs: 1\n",
            "I0414 21:24:09.692338 140399124526976 config_util.py:552] Maybe overwriting eval_num_epochs: 1\n",
            "WARNING:tensorflow:Expected number of evaluation epochs is 1, but instead encountered `eval_on_train_input_config.num_epochs` = 0. Overwriting `num_epochs` to 1.\n",
            "W0414 21:24:09.692537 140399124526976 model_lib_v2.py:1111] Expected number of evaluation epochs is 1, but instead encountered `eval_on_train_input_config.num_epochs` = 0. Overwriting `num_epochs` to 1.\n",
            "2022-04-14 21:24:10.253456: W tensorflow/core/common_runtime/gpu/gpu_bfc_allocator.cc:39] Overriding allow_growth setting because the TF_FORCE_GPU_ALLOW_GROWTH environment variable is set. Original config value was 0.\n",
            "I0414 21:24:10.262687 140399124526976 ssd_efficientnet_bifpn_feature_extractor.py:146] EfficientDet EfficientNet backbone version: efficientnet-b2\n",
            "I0414 21:24:10.262881 140399124526976 ssd_efficientnet_bifpn_feature_extractor.py:147] EfficientDet BiFPN num filters: 112\n",
            "I0414 21:24:10.262986 140399124526976 ssd_efficientnet_bifpn_feature_extractor.py:149] EfficientDet BiFPN num iterations: 5\n",
            "I0414 21:24:10.268901 140399124526976 efficientnet_model.py:144] round_filter input=32 output=32\n",
            "I0414 21:24:10.421820 140399124526976 efficientnet_model.py:144] round_filter input=32 output=32\n",
            "I0414 21:24:10.422005 140399124526976 efficientnet_model.py:144] round_filter input=16 output=16\n",
            "I0414 21:24:10.582728 140399124526976 efficientnet_model.py:144] round_filter input=16 output=16\n",
            "I0414 21:24:10.582909 140399124526976 efficientnet_model.py:144] round_filter input=24 output=24\n",
            "I0414 21:24:10.897772 140399124526976 efficientnet_model.py:144] round_filter input=24 output=24\n",
            "I0414 21:24:10.898046 140399124526976 efficientnet_model.py:144] round_filter input=40 output=48\n",
            "I0414 21:24:11.179108 140399124526976 efficientnet_model.py:144] round_filter input=40 output=48\n",
            "I0414 21:24:11.179317 140399124526976 efficientnet_model.py:144] round_filter input=80 output=88\n",
            "I0414 21:24:11.572349 140399124526976 efficientnet_model.py:144] round_filter input=80 output=88\n",
            "I0414 21:24:11.572556 140399124526976 efficientnet_model.py:144] round_filter input=112 output=120\n",
            "I0414 21:24:11.978481 140399124526976 efficientnet_model.py:144] round_filter input=112 output=120\n",
            "I0414 21:24:11.978711 140399124526976 efficientnet_model.py:144] round_filter input=192 output=208\n",
            "I0414 21:24:12.472222 140399124526976 efficientnet_model.py:144] round_filter input=192 output=208\n",
            "I0414 21:24:12.472426 140399124526976 efficientnet_model.py:144] round_filter input=320 output=352\n",
            "I0414 21:24:12.659324 140399124526976 efficientnet_model.py:144] round_filter input=1280 output=1408\n",
            "I0414 21:24:12.704101 140399124526976 efficientnet_model.py:454] Building model efficientnet with params ModelConfig(width_coefficient=1.1, depth_coefficient=1.2, resolution=260, dropout_rate=0.3, blocks=(BlockConfig(input_filters=32, output_filters=16, kernel_size=3, num_repeat=1, expand_ratio=1, strides=(1, 1), se_ratio=0.25, id_skip=True, fused_conv=False, conv_type='depthwise'), BlockConfig(input_filters=16, output_filters=24, kernel_size=3, num_repeat=2, expand_ratio=6, strides=(2, 2), se_ratio=0.25, id_skip=True, fused_conv=False, conv_type='depthwise'), BlockConfig(input_filters=24, output_filters=40, kernel_size=5, num_repeat=2, expand_ratio=6, strides=(2, 2), se_ratio=0.25, id_skip=True, fused_conv=False, conv_type='depthwise'), BlockConfig(input_filters=40, output_filters=80, kernel_size=3, num_repeat=3, expand_ratio=6, strides=(2, 2), se_ratio=0.25, id_skip=True, fused_conv=False, conv_type='depthwise'), BlockConfig(input_filters=80, output_filters=112, kernel_size=5, num_repeat=3, expand_ratio=6, strides=(1, 1), se_ratio=0.25, id_skip=True, fused_conv=False, conv_type='depthwise'), BlockConfig(input_filters=112, output_filters=192, kernel_size=5, num_repeat=4, expand_ratio=6, strides=(2, 2), se_ratio=0.25, id_skip=True, fused_conv=False, conv_type='depthwise'), BlockConfig(input_filters=192, output_filters=320, kernel_size=3, num_repeat=1, expand_ratio=6, strides=(1, 1), se_ratio=0.25, id_skip=True, fused_conv=False, conv_type='depthwise')), stem_base_filters=32, top_base_filters=1280, activation='simple_swish', batch_norm='default', bn_momentum=0.99, bn_epsilon=0.001, weight_decay=5e-06, drop_connect_rate=0.2, depth_divisor=8, min_depth=None, use_se=True, input_channels=3, num_classes=1000, model_name='efficientnet', rescale_input=False, data_format='channels_last', dtype='float32')\n",
            "INFO:tensorflow:Reading unweighted datasets: ['object_detection/workspace/annotations/test.record']\n",
            "I0414 21:24:12.779647 140399124526976 dataset_builder.py:162] Reading unweighted datasets: ['object_detection/workspace/annotations/test.record']\n",
            "INFO:tensorflow:Reading record datasets for input file: ['object_detection/workspace/annotations/test.record']\n",
            "I0414 21:24:12.779964 140399124526976 dataset_builder.py:79] Reading record datasets for input file: ['object_detection/workspace/annotations/test.record']\n",
            "INFO:tensorflow:Number of filenames to read: 1\n",
            "I0414 21:24:12.780127 140399124526976 dataset_builder.py:80] Number of filenames to read: 1\n",
            "WARNING:tensorflow:num_readers has been reduced to 1 to match input file shards.\n",
            "W0414 21:24:12.780314 140399124526976 dataset_builder.py:87] num_readers has been reduced to 1 to match input file shards.\n",
            "WARNING:tensorflow:From /usr/local/lib/python3.7/dist-packages/object_detection/builders/dataset_builder.py:104: parallel_interleave (from tensorflow.python.data.experimental.ops.interleave_ops) is deprecated and will be removed in a future version.\n",
            "Instructions for updating:\n",
            "Use `tf.data.Dataset.interleave(map_func, cycle_length, block_length, num_parallel_calls=tf.data.AUTOTUNE)` instead. If sloppy execution is desired, use `tf.data.Options.deterministic`.\n",
            "W0414 21:24:12.782014 140399124526976 deprecation.py:343] From /usr/local/lib/python3.7/dist-packages/object_detection/builders/dataset_builder.py:104: parallel_interleave (from tensorflow.python.data.experimental.ops.interleave_ops) is deprecated and will be removed in a future version.\n",
            "Instructions for updating:\n",
            "Use `tf.data.Dataset.interleave(map_func, cycle_length, block_length, num_parallel_calls=tf.data.AUTOTUNE)` instead. If sloppy execution is desired, use `tf.data.Options.deterministic`.\n",
            "WARNING:tensorflow:From /usr/local/lib/python3.7/dist-packages/object_detection/builders/dataset_builder.py:236: DatasetV1.map_with_legacy_function (from tensorflow.python.data.ops.dataset_ops) is deprecated and will be removed in a future version.\n",
            "Instructions for updating:\n",
            "Use `tf.data.Dataset.map()\n",
            "W0414 21:24:12.810990 140399124526976 deprecation.py:343] From /usr/local/lib/python3.7/dist-packages/object_detection/builders/dataset_builder.py:236: DatasetV1.map_with_legacy_function (from tensorflow.python.data.ops.dataset_ops) is deprecated and will be removed in a future version.\n",
            "Instructions for updating:\n",
            "Use `tf.data.Dataset.map()\n",
            "WARNING:tensorflow:From /usr/local/lib/python3.7/dist-packages/tensorflow/python/util/dispatch.py:1082: sparse_to_dense (from tensorflow.python.ops.sparse_ops) is deprecated and will be removed in a future version.\n",
            "Instructions for updating:\n",
            "Create a `tf.sparse.SparseTensor` and use `tf.sparse.to_dense` instead.\n",
            "W0414 21:24:17.478378 140399124526976 deprecation.py:343] From /usr/local/lib/python3.7/dist-packages/tensorflow/python/util/dispatch.py:1082: sparse_to_dense (from tensorflow.python.ops.sparse_ops) is deprecated and will be removed in a future version.\n",
            "Instructions for updating:\n",
            "Create a `tf.sparse.SparseTensor` and use `tf.sparse.to_dense` instead.\n",
            "WARNING:tensorflow:From /usr/local/lib/python3.7/dist-packages/tensorflow/python/util/dispatch.py:1082: to_float (from tensorflow.python.ops.math_ops) is deprecated and will be removed in a future version.\n",
            "Instructions for updating:\n",
            "Use `tf.cast` instead.\n",
            "W0414 21:24:19.181657 140399124526976 deprecation.py:343] From /usr/local/lib/python3.7/dist-packages/tensorflow/python/util/dispatch.py:1082: to_float (from tensorflow.python.ops.math_ops) is deprecated and will be removed in a future version.\n",
            "Instructions for updating:\n",
            "Use `tf.cast` instead.\n",
            "INFO:tensorflow:Waiting for new checkpoint at object_detection/workspace/models/my_efficientdet_d2\n",
            "I0414 21:24:22.340981 140399124526976 checkpoint_utils.py:136] Waiting for new checkpoint at object_detection/workspace/models/my_efficientdet_d2\n",
            "INFO:tensorflow:Found new checkpoint at object_detection/workspace/models/my_efficientdet_d2/ckpt-3\n",
            "I0414 21:24:22.341948 140399124526976 checkpoint_utils.py:145] Found new checkpoint at object_detection/workspace/models/my_efficientdet_d2/ckpt-3\n",
            "/usr/local/lib/python3.7/dist-packages/keras/backend.py:450: UserWarning: `tf.keras.backend.set_learning_phase` is deprecated and will be removed after 2020-10-11. To update it, simply pass a True/False value to the `training` argument of the `__call__` method of your layer or model.\n",
            "  warnings.warn('`tf.keras.backend.set_learning_phase` is deprecated and '\n",
            "2022-04-14 21:25:02.450088: W tensorflow/core/common_runtime/bfc_allocator.cc:343] Garbage collection: deallocate free memory regions (i.e., allocations) so that we can re-allocate a larger region to avoid OOM due to memory fragmentation. If you see this message frequently, you are running near the threshold of the available device memory and re-allocation may incur great performance overhead. You may try smaller batch sizes to observe the performance impact. Set TF_ENABLE_GPU_GARBAGE_COLLECTION=false if you'd like to disable this feature.\n",
            "2022-04-14 21:25:03.034439: W tensorflow/core/common_runtime/bfc_allocator.cc:275] Allocator (GPU_0_bfc) ran out of memory trying to allocate 3.59GiB with freed_by_count=0. The caller indicates that this is not a failure, but may mean that there could be performance gains if more memory were available.\n",
            "WARNING:tensorflow:From /usr/local/lib/python3.7/dist-packages/tensorflow/python/util/dispatch.py:1082: to_int64 (from tensorflow.python.ops.math_ops) is deprecated and will be removed in a future version.\n",
            "Instructions for updating:\n",
            "Use `tf.cast` instead.\n",
            "W0414 21:25:03.390721 140399124526976 deprecation.py:343] From /usr/local/lib/python3.7/dist-packages/tensorflow/python/util/dispatch.py:1082: to_int64 (from tensorflow.python.ops.math_ops) is deprecated and will be removed in a future version.\n",
            "Instructions for updating:\n",
            "Use `tf.cast` instead.\n",
            "INFO:tensorflow:Finished eval step 0\n",
            "I0414 21:25:03.517745 140399124526976 model_lib_v2.py:966] Finished eval step 0\n",
            "WARNING:tensorflow:From /usr/local/lib/python3.7/dist-packages/tensorflow/python/autograph/impl/api.py:459: py_func (from tensorflow.python.ops.script_ops) is deprecated and will be removed in a future version.\n",
            "Instructions for updating:\n",
            "tf.py_func is deprecated in TF V2. Instead, there are two\n",
            "    options available in V2.\n",
            "    - tf.py_function takes a python function which manipulates tf eager\n",
            "    tensors instead of numpy arrays. It's easy to convert a tf eager tensor to\n",
            "    an ndarray (just call tensor.numpy()) but having access to eager tensors\n",
            "    means `tf.py_function`s can use accelerators such as GPUs as well as\n",
            "    being differentiable using a gradient tape.\n",
            "    - tf.numpy_function maintains the semantics of the deprecated tf.py_func\n",
            "    (it is not differentiable, and manipulates numpy arrays). It drops the\n",
            "    stateful argument making all functions stateful.\n",
            "    \n",
            "W0414 21:25:03.669491 140399124526976 deprecation.py:343] From /usr/local/lib/python3.7/dist-packages/tensorflow/python/autograph/impl/api.py:459: py_func (from tensorflow.python.ops.script_ops) is deprecated and will be removed in a future version.\n",
            "Instructions for updating:\n",
            "tf.py_func is deprecated in TF V2. Instead, there are two\n",
            "    options available in V2.\n",
            "    - tf.py_function takes a python function which manipulates tf eager\n",
            "    tensors instead of numpy arrays. It's easy to convert a tf eager tensor to\n",
            "    an ndarray (just call tensor.numpy()) but having access to eager tensors\n",
            "    means `tf.py_function`s can use accelerators such as GPUs as well as\n",
            "    being differentiable using a gradient tape.\n",
            "    - tf.numpy_function maintains the semantics of the deprecated tf.py_func\n",
            "    (it is not differentiable, and manipulates numpy arrays). It drops the\n",
            "    stateful argument making all functions stateful.\n",
            "    \n",
            "INFO:tensorflow:Performing evaluation on 8 images.\n",
            "I0414 21:25:06.892039 140399124526976 coco_evaluation.py:293] Performing evaluation on 8 images.\n",
            "creating index...\n",
            "index created!\n",
            "INFO:tensorflow:Loading and preparing annotation results...\n",
            "I0414 21:25:06.892473 140399124526976 coco_tools.py:116] Loading and preparing annotation results...\n",
            "INFO:tensorflow:DONE (t=0.00s)\n",
            "I0414 21:25:06.893304 140399124526976 coco_tools.py:138] DONE (t=0.00s)\n",
            "creating index...\n",
            "index created!\n",
            "Running per image evaluation...\n",
            "Evaluate annotation type *bbox*\n",
            "DONE (t=0.04s).\n",
            "Accumulating evaluation results...\n",
            "DONE (t=0.01s).\n",
            " Average Precision  (AP) @[ IoU=0.50:0.95 | area=   all | maxDets=100 ] = 0.622\n",
            " Average Precision  (AP) @[ IoU=0.50      | area=   all | maxDets=100 ] = 1.000\n",
            " Average Precision  (AP) @[ IoU=0.75      | area=   all | maxDets=100 ] = 0.814\n",
            " Average Precision  (AP) @[ IoU=0.50:0.95 | area= small | maxDets=100 ] = -1.000\n",
            " Average Precision  (AP) @[ IoU=0.50:0.95 | area=medium | maxDets=100 ] = -1.000\n",
            " Average Precision  (AP) @[ IoU=0.50:0.95 | area= large | maxDets=100 ] = 0.622\n",
            " Average Recall     (AR) @[ IoU=0.50:0.95 | area=   all | maxDets=  1 ] = 0.650\n",
            " Average Recall     (AR) @[ IoU=0.50:0.95 | area=   all | maxDets= 10 ] = 0.650\n",
            " Average Recall     (AR) @[ IoU=0.50:0.95 | area=   all | maxDets=100 ] = 0.650\n",
            " Average Recall     (AR) @[ IoU=0.50:0.95 | area= small | maxDets=100 ] = -1.000\n",
            " Average Recall     (AR) @[ IoU=0.50:0.95 | area=medium | maxDets=100 ] = -1.000\n",
            " Average Recall     (AR) @[ IoU=0.50:0.95 | area= large | maxDets=100 ] = 0.650\n",
            "INFO:tensorflow:Eval metrics at step 2000\n",
            "I0414 21:25:06.949288 140399124526976 model_lib_v2.py:1015] Eval metrics at step 2000\n",
            "INFO:tensorflow:\t+ DetectionBoxes_Precision/mAP: 0.622277\n",
            "I0414 21:25:07.009859 140399124526976 model_lib_v2.py:1018] \t+ DetectionBoxes_Precision/mAP: 0.622277\n",
            "INFO:tensorflow:\t+ DetectionBoxes_Precision/mAP@.50IOU: 1.000000\n",
            "I0414 21:25:07.011698 140399124526976 model_lib_v2.py:1018] \t+ DetectionBoxes_Precision/mAP@.50IOU: 1.000000\n",
            "INFO:tensorflow:\t+ DetectionBoxes_Precision/mAP@.75IOU: 0.814356\n",
            "I0414 21:25:07.016578 140399124526976 model_lib_v2.py:1018] \t+ DetectionBoxes_Precision/mAP@.75IOU: 0.814356\n",
            "INFO:tensorflow:\t+ DetectionBoxes_Precision/mAP (small): -1.000000\n",
            "I0414 21:25:07.018395 140399124526976 model_lib_v2.py:1018] \t+ DetectionBoxes_Precision/mAP (small): -1.000000\n",
            "INFO:tensorflow:\t+ DetectionBoxes_Precision/mAP (medium): -1.000000\n",
            "I0414 21:25:07.019853 140399124526976 model_lib_v2.py:1018] \t+ DetectionBoxes_Precision/mAP (medium): -1.000000\n",
            "INFO:tensorflow:\t+ DetectionBoxes_Precision/mAP (large): 0.622277\n",
            "I0414 21:25:07.021296 140399124526976 model_lib_v2.py:1018] \t+ DetectionBoxes_Precision/mAP (large): 0.622277\n",
            "INFO:tensorflow:\t+ DetectionBoxes_Recall/AR@1: 0.650000\n",
            "I0414 21:25:07.023037 140399124526976 model_lib_v2.py:1018] \t+ DetectionBoxes_Recall/AR@1: 0.650000\n",
            "INFO:tensorflow:\t+ DetectionBoxes_Recall/AR@10: 0.650000\n",
            "I0414 21:25:07.024499 140399124526976 model_lib_v2.py:1018] \t+ DetectionBoxes_Recall/AR@10: 0.650000\n",
            "INFO:tensorflow:\t+ DetectionBoxes_Recall/AR@100: 0.650000\n",
            "I0414 21:25:07.025956 140399124526976 model_lib_v2.py:1018] \t+ DetectionBoxes_Recall/AR@100: 0.650000\n",
            "INFO:tensorflow:\t+ DetectionBoxes_Recall/AR@100 (small): -1.000000\n",
            "I0414 21:25:07.027497 140399124526976 model_lib_v2.py:1018] \t+ DetectionBoxes_Recall/AR@100 (small): -1.000000\n",
            "INFO:tensorflow:\t+ DetectionBoxes_Recall/AR@100 (medium): -1.000000\n",
            "I0414 21:25:07.029278 140399124526976 model_lib_v2.py:1018] \t+ DetectionBoxes_Recall/AR@100 (medium): -1.000000\n",
            "INFO:tensorflow:\t+ DetectionBoxes_Recall/AR@100 (large): 0.650000\n",
            "I0414 21:25:07.030758 140399124526976 model_lib_v2.py:1018] \t+ DetectionBoxes_Recall/AR@100 (large): 0.650000\n",
            "INFO:tensorflow:\t+ Loss/localization_loss: 0.001880\n",
            "I0414 21:25:07.032264 140399124526976 model_lib_v2.py:1018] \t+ Loss/localization_loss: 0.001880\n",
            "INFO:tensorflow:\t+ Loss/classification_loss: 0.129411\n",
            "I0414 21:25:07.033668 140399124526976 model_lib_v2.py:1018] \t+ Loss/classification_loss: 0.129411\n",
            "INFO:tensorflow:\t+ Loss/regularization_loss: 0.036910\n",
            "I0414 21:25:07.034997 140399124526976 model_lib_v2.py:1018] \t+ Loss/regularization_loss: 0.036910\n",
            "INFO:tensorflow:\t+ Loss/total_loss: 0.168202\n",
            "I0414 21:25:07.036310 140399124526976 model_lib_v2.py:1018] \t+ Loss/total_loss: 0.168202\n",
            "Traceback (most recent call last):\n",
            "  File \"object_detection/models/research/object_detection/model_main_tf2.py\", line 114, in <module>\n",
            "    tf.compat.v1.app.run()\n",
            "  File \"/usr/local/lib/python3.7/dist-packages/tensorflow/python/platform/app.py\", line 36, in run\n",
            "  File \"/usr/local/lib/python3.7/dist-packages/absl/app.py\", line 312, in run\n",
            "    _run_main(main, args)\n",
            "  File \"/usr/local/lib/python3.7/dist-packages/absl/app.py\", line 258, in _run_main\n",
            "    sys.exit(main(argv))\n",
            "  File \"object_detection/models/research/object_detection/model_main_tf2.py\", line 89, in main\n",
            "    wait_interval=300, timeout=FLAGS.eval_timeout)\n",
            "  File \"/usr/local/lib/python3.7/dist-packages/object_detection/model_lib_v2.py\", line 1137, in eval_continuously\n",
            "    checkpoint_dir, timeout=timeout, min_interval_secs=wait_interval):\n",
            "  File \"/usr/local/lib/python3.7/dist-packages/tensorflow/python/training/checkpoint_utils.py\", line 212, in checkpoints_iterator\n",
            "    time.sleep(time_to_next_eval)\n",
            "KeyboardInterrupt\n"
          ]
        }
      ]
    },
    {
      "cell_type": "markdown",
      "source": [
        "# Load from Checkpoint"
      ],
      "metadata": {
        "id": "Td2IVjOsRThx"
      }
    },
    {
      "cell_type": "code",
      "source": [
        "import os\n",
        "import tensorflow as tf\n",
        "from object_detection.utils import label_map_util\n",
        "from object_detection.utils import visualization_utils as viz_utils\n",
        "from object_detection.builders import model_builder\n",
        "from object_detection.utils import config_util"
      ],
      "metadata": {
        "id": "AXucUjYaJVPN"
      },
      "execution_count": null,
      "outputs": []
    },
    {
      "cell_type": "code",
      "source": [
        "# Load pipeline config and build a detection model\n",
        "configs = config_util.get_configs_from_pipeline_file(files['pipeline_config'])\n",
        "detection_model = model_builder.build(model_config=configs['model'], is_training=False)\n",
        "\n",
        "# Restore checkpoint\n",
        "ckpt = tf.compat.v2.train.Checkpoint(model=detection_model)\n",
        "ckpt.restore(os.path.join(paths['checkpoint_path'], 'ckpt-3')).expect_partial()\n",
        "\n",
        "@tf.function\n",
        "def detect_fn(image):\n",
        "    image, shapes = detection_model.preprocess(image)\n",
        "    prediction_dict = detection_model.predict(image, shapes)\n",
        "    detections = detection_model.postprocess(prediction_dict, shapes)\n",
        "    return detections"
      ],
      "metadata": {
        "id": "-A4vdlWzRY4b"
      },
      "execution_count": null,
      "outputs": []
    },
    {
      "cell_type": "markdown",
      "source": [
        "# Detect from Image"
      ],
      "metadata": {
        "id": "vZxZ7h_-R_8G"
      }
    },
    {
      "cell_type": "code",
      "source": [
        "import cv2 \n",
        "import numpy as np\n",
        "from matplotlib import pyplot as plt\n",
        "%matplotlib inline"
      ],
      "metadata": {
        "id": "q-idciYjR-hk"
      },
      "execution_count": null,
      "outputs": []
    },
    {
      "cell_type": "code",
      "source": [
        "category_index = label_map_util.create_category_index_from_labelmap(files['labelmap'])"
      ],
      "metadata": {
        "id": "IBgkhivOSWqG"
      },
      "execution_count": null,
      "outputs": []
    },
    {
      "cell_type": "code",
      "source": [
        "IMAGE_PATH = os.path.join(paths['image_path'], 'test', 'face_mask_f897f659-bb5e-11ec-b9a8-bca8a6723a43.jpg')"
      ],
      "metadata": {
        "id": "mQiVPpkYSdER"
      },
      "execution_count": null,
      "outputs": []
    },
    {
      "cell_type": "code",
      "source": [
        "img = cv2.imread(IMAGE_PATH)\n",
        "image_np = np.array(img)\n",
        "\n",
        "input_tensor = tf.convert_to_tensor(np.expand_dims(image_np, 0), dtype=tf.float32)\n",
        "detections = detect_fn(input_tensor)\n",
        "\n",
        "num_detections = int(detections.pop('num_detections'))\n",
        "detections = {key: value[0, :num_detections].numpy()\n",
        "              for key, value in detections.items()}\n",
        "detections['num_detections'] = num_detections\n",
        "\n",
        "# detection_classes should be ints.\n",
        "detections['detection_classes'] = detections['detection_classes'].astype(np.int64)\n",
        "\n",
        "label_id_offset = 1\n",
        "image_np_with_detections = image_np.copy()\n",
        "\n",
        "viz_utils.visualize_boxes_and_labels_on_image_array(\n",
        "            image_np_with_detections,\n",
        "            detections['detection_boxes'],\n",
        "            detections['detection_classes']+label_id_offset,\n",
        "            detections['detection_scores'],\n",
        "            category_index,\n",
        "            use_normalized_coordinates=True,\n",
        "            max_boxes_to_draw=5,\n",
        "            min_score_thresh=.8,\n",
        "            agnostic_mode=False)\n",
        "\n",
        "plt.imshow(cv2.cvtColor(image_np_with_detections, cv2.COLOR_BGR2RGB))\n",
        "plt.show()"
      ],
      "metadata": {
        "colab": {
          "base_uri": "https://localhost:8080/",
          "height": 269
        },
        "id": "O0tDTKGJTG1-",
        "outputId": "9e0df8b1-42ec-43f0-eb22-2a1cf3fca5aa"
      },
      "execution_count": null,
      "outputs": [
        {
          "output_type": "display_data",
          "data": {
            "text/plain": [
              "<Figure size 432x288 with 1 Axes>"
            ],
            "image/png": "[encoded data removed]"
          },
          "metadata": {
            "needs_background": "light"
          }
        }
      ]
    },
    {
      "cell_type": "markdown",
      "source": [
        "# Zip and Export"
      ],
      "metadata": {
        "id": "tOzA3k4qj7aL"
      }
    },
    {
      "cell_type": "code",
      "source": [
        "!tar -czf models.tar.gz {paths['checkpoint_path']}"
      ],
      "metadata": {
        "id": "yQOGmaS_TJf5"
      },
      "execution_count": null,
      "outputs": []
    },
    {
      "cell_type": "code",
      "source": [
        ""
      ],
      "metadata": {
        "id": "sD6EfxS6kJ0H"
      },
      "execution_count": null,
      "outputs": []
    }
  ]
}